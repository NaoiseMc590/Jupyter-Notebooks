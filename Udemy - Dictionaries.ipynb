{
 "cells": [
  {
   "cell_type": "code",
   "execution_count": 2,
   "metadata": {},
   "outputs": [
    {
     "name": "stdout",
     "output_type": "stream",
     "text": [
      "{'John': 3, 'David': 1, 'Dave': 1, 'Eoin': 2, 'Max': 1}\n",
      "\n",
      "\n",
      "3\n"
     ]
    }
   ],
   "source": [
    "#Calculating occurrences of items in a list\n",
    "names = ['John', 'John', 'David', 'Dave', 'John', 'Eoin', 'Max', 'Eoin']\n",
    "\n",
    "d = {}\n",
    "for element in names:\n",
    "    if element in d:\n",
    "        d[element] = d[element] + 1\n",
    "    else:\n",
    "        d[element] = 1\n",
    "        \n",
    "print(d)\n",
    "\n",
    "print('\\n')\n",
    "    \n",
    "max_occurrences = 0\n",
    "\n",
    "for key, value in d.items():\n",
    "    if max_occurrences < value:\n",
    "        max_occurrences = value\n",
    "    \n",
    "print(max_occurrences)"
   ]
  },
  {
   "cell_type": "code",
   "execution_count": 8,
   "metadata": {},
   "outputs": [
    {
     "name": "stdout",
     "output_type": "stream",
     "text": [
      "Los Angeles\n",
      "Phoenix\n"
     ]
    }
   ],
   "source": [
    "cities = ['Berlin', 'Dublin', 'Los Angeles'], ['Paris', 'Hamburg', 'Phoenix']\n",
    "\n",
    "print(cities[0][2])\n",
    "print(cities[1][2])"
   ]
  },
  {
   "cell_type": "code",
   "execution_count": 20,
   "metadata": {},
   "outputs": [
    {
     "name": "stdout",
     "output_type": "stream",
     "text": [
      "['John', 'David']\n",
      "['Dave', 'Max']\n"
     ]
    }
   ],
   "source": [
    "#Nesting lists\n",
    "school = {\n",
    "    'Spanish': ['John', 'David'],\n",
    "    'Economics': ['Dave', 'Max']\n",
    "}\n",
    "\n",
    "print(school['Spanish'])\n",
    "top_of_the_class = school['Economics']\n",
    "print(top_of_the_class)"
   ]
  }
 ],
 "metadata": {
  "kernelspec": {
   "display_name": "Python 3",
   "language": "python",
   "name": "python3"
  },
  "language_info": {
   "codemirror_mode": {
    "name": "ipython",
    "version": 3
   },
   "file_extension": ".py",
   "mimetype": "text/x-python",
   "name": "python",
   "nbconvert_exporter": "python",
   "pygments_lexer": "ipython3",
   "version": "3.6.5"
  }
 },
 "nbformat": 4,
 "nbformat_minor": 2
}
