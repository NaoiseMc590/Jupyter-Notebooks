{
 "cells": [
  {
   "cell_type": "code",
   "execution_count": 1,
   "metadata": {},
   "outputs": [],
   "source": [
    "#Index objects\n",
    "import numpy as np\n",
    "import pandas as pd\n",
    "from pandas import Series, DataFrame"
   ]
  },
  {
   "cell_type": "code",
   "execution_count": 2,
   "metadata": {},
   "outputs": [
    {
     "data": {
      "text/plain": [
       "A     5\n",
       "B    10\n",
       "C    15\n",
       "D    20\n",
       "dtype: int64"
      ]
     },
     "execution_count": 2,
     "metadata": {},
     "output_type": "execute_result"
    }
   ],
   "source": [
    "series1 = Series([5, 10 , 15 ,20], index = ['A', 'B', 'C', 'D'])\n",
    "series1"
   ]
  },
  {
   "cell_type": "code",
   "execution_count": 3,
   "metadata": {},
   "outputs": [
    {
     "data": {
      "text/plain": [
       "Index(['A', 'B', 'C', 'D'], dtype='object')"
      ]
     },
     "execution_count": 3,
     "metadata": {},
     "output_type": "execute_result"
    }
   ],
   "source": [
    "series_ex = series1.index\n",
    "series_ex"
   ]
  },
  {
   "cell_type": "code",
   "execution_count": 6,
   "metadata": {},
   "outputs": [
    {
     "name": "stdout",
     "output_type": "stream",
     "text": [
      "B\n"
     ]
    }
   ],
   "source": [
    "print(series_ex[1])"
   ]
  },
  {
   "cell_type": "code",
   "execution_count": 7,
   "metadata": {},
   "outputs": [
    {
     "data": {
      "text/plain": [
       "Index(['A', 'B'], dtype='object')"
      ]
     },
     "execution_count": 7,
     "metadata": {},
     "output_type": "execute_result"
    }
   ],
   "source": [
    "series_ex[:2]"
   ]
  },
  {
   "cell_type": "code",
   "execution_count": 9,
   "metadata": {},
   "outputs": [
    {
     "ename": "TypeError",
     "evalue": "Index does not support mutable operations",
     "output_type": "error",
     "traceback": [
      "\u001b[1;31m---------------------------------------------------------------------------\u001b[0m",
      "\u001b[1;31mTypeError\u001b[0m                                 Traceback (most recent call last)",
      "\u001b[1;32m<ipython-input-9-4dcbddba0bea>\u001b[0m in \u001b[0;36m<module>\u001b[1;34m()\u001b[0m\n\u001b[1;32m----> 1\u001b[1;33m \u001b[0mseries_ex\u001b[0m\u001b[1;33m[\u001b[0m\u001b[1;36m0\u001b[0m\u001b[1;33m]\u001b[0m \u001b[1;33m=\u001b[0m \u001b[1;34m'X'\u001b[0m\u001b[1;33m\u001b[0m\u001b[0m\n\u001b[0m\u001b[0;32m      2\u001b[0m \u001b[0mseries_ex\u001b[0m\u001b[1;33m[\u001b[0m\u001b[1;36m0\u001b[0m\u001b[1;33m]\u001b[0m\u001b[1;33m\u001b[0m\u001b[0m\n",
      "\u001b[1;32m~\\Downloads\\Coding Software\\lib\\site-packages\\pandas\\core\\indexes\\base.py\u001b[0m in \u001b[0;36m__setitem__\u001b[1;34m(self, key, value)\u001b[0m\n\u001b[0;32m   2048\u001b[0m \u001b[1;33m\u001b[0m\u001b[0m\n\u001b[0;32m   2049\u001b[0m     \u001b[1;32mdef\u001b[0m \u001b[0m__setitem__\u001b[0m\u001b[1;33m(\u001b[0m\u001b[0mself\u001b[0m\u001b[1;33m,\u001b[0m \u001b[0mkey\u001b[0m\u001b[1;33m,\u001b[0m \u001b[0mvalue\u001b[0m\u001b[1;33m)\u001b[0m\u001b[1;33m:\u001b[0m\u001b[1;33m\u001b[0m\u001b[0m\n\u001b[1;32m-> 2050\u001b[1;33m         \u001b[1;32mraise\u001b[0m \u001b[0mTypeError\u001b[0m\u001b[1;33m(\u001b[0m\u001b[1;34m\"Index does not support mutable operations\"\u001b[0m\u001b[1;33m)\u001b[0m\u001b[1;33m\u001b[0m\u001b[0m\n\u001b[0m\u001b[0;32m   2051\u001b[0m \u001b[1;33m\u001b[0m\u001b[0m\n\u001b[0;32m   2052\u001b[0m     \u001b[1;32mdef\u001b[0m \u001b[0m__getitem__\u001b[0m\u001b[1;33m(\u001b[0m\u001b[0mself\u001b[0m\u001b[1;33m,\u001b[0m \u001b[0mkey\u001b[0m\u001b[1;33m)\u001b[0m\u001b[1;33m:\u001b[0m\u001b[1;33m\u001b[0m\u001b[0m\n",
      "\u001b[1;31mTypeError\u001b[0m: Index does not support mutable operations"
     ]
    }
   ],
   "source": [
    "series_ex[0] = 'X'\n",
    "series_ex[0]                                              #Index values are immutable - can't change them"
   ]
  },
  {
   "cell_type": "code",
   "execution_count": 10,
   "metadata": {},
   "outputs": [],
   "source": [
    "#Reindex objects\n",
    "from numpy.random import randn"
   ]
  },
  {
   "cell_type": "code",
   "execution_count": 11,
   "metadata": {},
   "outputs": [
    {
     "data": {
      "text/plain": [
       "X     2\n",
       "Y     4\n",
       "Z     8\n",
       "W    16\n",
       "dtype: int64"
      ]
     },
     "execution_count": 11,
     "metadata": {},
     "output_type": "execute_result"
    }
   ],
   "source": [
    "series2 = Series([2, 4, 8, 16], index = ['X', 'Y', 'Z', 'W'])\n",
    "series2"
   ]
  },
  {
   "cell_type": "code",
   "execution_count": 106,
   "metadata": {},
   "outputs": [
    {
     "data": {
      "text/plain": [
       "X     2.0\n",
       "Y     4.0\n",
       "A     NaN\n",
       "W    16.0\n",
       "C     NaN\n",
       "dtype: float64"
      ]
     },
     "execution_count": 106,
     "metadata": {},
     "output_type": "execute_result"
    }
   ],
   "source": [
    "ser3 = series2.reindex(['X', 'Y', 'A', 'W', 'C'])                  #Index values not found in original are given null values\n",
    "ser3"
   ]
  },
  {
   "cell_type": "code",
   "execution_count": 111,
   "metadata": {},
   "outputs": [
    {
     "data": {
      "text/plain": [
       "X     2.0\n",
       "T     0.0\n",
       "B     0.0\n",
       "W    16.0\n",
       "dtype: float64"
      ]
     },
     "execution_count": 111,
     "metadata": {},
     "output_type": "execute_result"
    }
   ],
   "source": [
    "ser50 = ser3.reindex(['X', 'T', 'B', 'W'], fill_value=0)\n",
    "#Instead of null values, 'fill_value' replaces 'NaN' with a specific value\n",
    "ser50"
   ]
  },
  {
   "cell_type": "code",
   "execution_count": 25,
   "metadata": {},
   "outputs": [
    {
     "data": {
      "text/plain": [
       "0     Mexico\n",
       "8     Canada\n",
       "15       USA\n",
       "dtype: object"
      ]
     },
     "execution_count": 25,
     "metadata": {},
     "output_type": "execute_result"
    }
   ],
   "source": [
    "ser4 = Series(['Mexico', 'Canada', 'USA'], index = [0, 8, 15])\n",
    "ser4"
   ]
  },
  {
   "cell_type": "code",
   "execution_count": 29,
   "metadata": {},
   "outputs": [],
   "source": [
    "test = range(21)"
   ]
  },
  {
   "cell_type": "code",
   "execution_count": 30,
   "metadata": {},
   "outputs": [
    {
     "data": {
      "text/plain": [
       "range(0, 21)"
      ]
     },
     "execution_count": 30,
     "metadata": {},
     "output_type": "execute_result"
    }
   ],
   "source": [
    "test"
   ]
  },
  {
   "cell_type": "code",
   "execution_count": 31,
   "metadata": {},
   "outputs": [
    {
     "data": {
      "text/plain": [
       "0     Mexico\n",
       "1     Mexico\n",
       "2     Mexico\n",
       "3     Mexico\n",
       "4     Mexico\n",
       "5     Mexico\n",
       "6     Mexico\n",
       "7     Mexico\n",
       "8     Canada\n",
       "9     Canada\n",
       "10    Canada\n",
       "11    Canada\n",
       "12    Canada\n",
       "13    Canada\n",
       "14    Canada\n",
       "15       USA\n",
       "16       USA\n",
       "17       USA\n",
       "18       USA\n",
       "19       USA\n",
       "20       USA\n",
       "dtype: object"
      ]
     },
     "execution_count": 31,
     "metadata": {},
     "output_type": "execute_result"
    }
   ],
   "source": [
    "ser4.reindex(test, method = 'ffill')"
   ]
  },
  {
   "cell_type": "code",
   "execution_count": 84,
   "metadata": {},
   "outputs": [
    {
     "data": {
      "text/html": [
       "<div>\n",
       "<style scoped>\n",
       "    .dataframe tbody tr th:only-of-type {\n",
       "        vertical-align: middle;\n",
       "    }\n",
       "\n",
       "    .dataframe tbody tr th {\n",
       "        vertical-align: top;\n",
       "    }\n",
       "\n",
       "    .dataframe thead th {\n",
       "        text-align: right;\n",
       "    }\n",
       "</style>\n",
       "<table border=\"1\" class=\"dataframe\">\n",
       "  <thead>\n",
       "    <tr style=\"text-align: right;\">\n",
       "      <th></th>\n",
       "      <th>#1</th>\n",
       "      <th>#2</th>\n",
       "      <th>#3</th>\n",
       "      <th>#4</th>\n",
       "      <th>#5</th>\n",
       "    </tr>\n",
       "  </thead>\n",
       "  <tbody>\n",
       "    <tr>\n",
       "      <th>A</th>\n",
       "      <td>-0.139095</td>\n",
       "      <td>-0.129829</td>\n",
       "      <td>-0.536974</td>\n",
       "      <td>-0.580684</td>\n",
       "      <td>1.735197</td>\n",
       "    </tr>\n",
       "    <tr>\n",
       "      <th>B</th>\n",
       "      <td>-0.790510</td>\n",
       "      <td>-1.154619</td>\n",
       "      <td>-0.188317</td>\n",
       "      <td>-0.935653</td>\n",
       "      <td>1.088255</td>\n",
       "    </tr>\n",
       "    <tr>\n",
       "      <th>C</th>\n",
       "      <td>-0.013163</td>\n",
       "      <td>0.474256</td>\n",
       "      <td>0.919193</td>\n",
       "      <td>1.558943</td>\n",
       "      <td>0.155970</td>\n",
       "    </tr>\n",
       "    <tr>\n",
       "      <th>D</th>\n",
       "      <td>1.511395</td>\n",
       "      <td>-0.141668</td>\n",
       "      <td>-0.273792</td>\n",
       "      <td>-0.621282</td>\n",
       "      <td>-0.343855</td>\n",
       "    </tr>\n",
       "    <tr>\n",
       "      <th>E</th>\n",
       "      <td>0.530399</td>\n",
       "      <td>1.481996</td>\n",
       "      <td>1.265871</td>\n",
       "      <td>-0.759999</td>\n",
       "      <td>0.073899</td>\n",
       "    </tr>\n",
       "  </tbody>\n",
       "</table>\n",
       "</div>"
      ],
      "text/plain": [
       "         #1        #2        #3        #4        #5\n",
       "A -0.139095 -0.129829 -0.536974 -0.580684  1.735197\n",
       "B -0.790510 -1.154619 -0.188317 -0.935653  1.088255\n",
       "C -0.013163  0.474256  0.919193  1.558943  0.155970\n",
       "D  1.511395 -0.141668 -0.273792 -0.621282 -0.343855\n",
       "E  0.530399  1.481996  1.265871 -0.759999  0.073899"
      ]
     },
     "execution_count": 84,
     "metadata": {},
     "output_type": "execute_result"
    }
   ],
   "source": [
    "example = DataFrame(randn(25).reshape((5, 5)), index = ['A', 'B', 'C', 'D', 'E'],\n",
    "                    columns = ['#1', '#2', '#3', '#4', '#5'])\n",
    "example"
   ]
  },
  {
   "cell_type": "code",
   "execution_count": 85,
   "metadata": {},
   "outputs": [
    {
     "data": {
      "text/html": [
       "<div>\n",
       "<style scoped>\n",
       "    .dataframe tbody tr th:only-of-type {\n",
       "        vertical-align: middle;\n",
       "    }\n",
       "\n",
       "    .dataframe tbody tr th {\n",
       "        vertical-align: top;\n",
       "    }\n",
       "\n",
       "    .dataframe thead th {\n",
       "        text-align: right;\n",
       "    }\n",
       "</style>\n",
       "<table border=\"1\" class=\"dataframe\">\n",
       "  <thead>\n",
       "    <tr style=\"text-align: right;\">\n",
       "      <th></th>\n",
       "      <th>#1</th>\n",
       "      <th>#2</th>\n",
       "      <th>#3</th>\n",
       "      <th>#4</th>\n",
       "      <th>#5</th>\n",
       "    </tr>\n",
       "  </thead>\n",
       "  <tbody>\n",
       "    <tr>\n",
       "      <th>A</th>\n",
       "      <td>-0.139095</td>\n",
       "      <td>-0.129829</td>\n",
       "      <td>-0.536974</td>\n",
       "      <td>-0.580684</td>\n",
       "      <td>1.735197</td>\n",
       "    </tr>\n",
       "    <tr>\n",
       "      <th>B</th>\n",
       "      <td>-0.790510</td>\n",
       "      <td>-1.154619</td>\n",
       "      <td>-0.188317</td>\n",
       "      <td>-0.935653</td>\n",
       "      <td>1.088255</td>\n",
       "    </tr>\n",
       "    <tr>\n",
       "      <th>f</th>\n",
       "      <td>NaN</td>\n",
       "      <td>NaN</td>\n",
       "      <td>NaN</td>\n",
       "      <td>NaN</td>\n",
       "      <td>NaN</td>\n",
       "    </tr>\n",
       "    <tr>\n",
       "      <th>D</th>\n",
       "      <td>1.511395</td>\n",
       "      <td>-0.141668</td>\n",
       "      <td>-0.273792</td>\n",
       "      <td>-0.621282</td>\n",
       "      <td>-0.343855</td>\n",
       "    </tr>\n",
       "    <tr>\n",
       "      <th>E</th>\n",
       "      <td>0.530399</td>\n",
       "      <td>1.481996</td>\n",
       "      <td>1.265871</td>\n",
       "      <td>-0.759999</td>\n",
       "      <td>0.073899</td>\n",
       "    </tr>\n",
       "  </tbody>\n",
       "</table>\n",
       "</div>"
      ],
      "text/plain": [
       "         #1        #2        #3        #4        #5\n",
       "A -0.139095 -0.129829 -0.536974 -0.580684  1.735197\n",
       "B -0.790510 -1.154619 -0.188317 -0.935653  1.088255\n",
       "f       NaN       NaN       NaN       NaN       NaN\n",
       "D  1.511395 -0.141668 -0.273792 -0.621282 -0.343855\n",
       "E  0.530399  1.481996  1.265871 -0.759999  0.073899"
      ]
     },
     "execution_count": 85,
     "metadata": {},
     "output_type": "execute_result"
    }
   ],
   "source": [
    "example2 = example.reindex(['A', 'B', 'f', 'D', 'E'])\n",
    "example2"
   ]
  },
  {
   "cell_type": "code",
   "execution_count": 93,
   "metadata": {},
   "outputs": [],
   "source": [
    "new_columns = ['#1', '#2', '#3', '#4', '#5', '#6']                #Must be in the same format as original column titles eg. #X"
   ]
  },
  {
   "cell_type": "code",
   "execution_count": 94,
   "metadata": {},
   "outputs": [
    {
     "data": {
      "text/html": [
       "<div>\n",
       "<style scoped>\n",
       "    .dataframe tbody tr th:only-of-type {\n",
       "        vertical-align: middle;\n",
       "    }\n",
       "\n",
       "    .dataframe tbody tr th {\n",
       "        vertical-align: top;\n",
       "    }\n",
       "\n",
       "    .dataframe thead th {\n",
       "        text-align: right;\n",
       "    }\n",
       "</style>\n",
       "<table border=\"1\" class=\"dataframe\">\n",
       "  <thead>\n",
       "    <tr style=\"text-align: right;\">\n",
       "      <th></th>\n",
       "      <th>#1</th>\n",
       "      <th>#2</th>\n",
       "      <th>#3</th>\n",
       "      <th>#4</th>\n",
       "      <th>#5</th>\n",
       "      <th>#6</th>\n",
       "    </tr>\n",
       "  </thead>\n",
       "  <tbody>\n",
       "    <tr>\n",
       "      <th>A</th>\n",
       "      <td>-0.139095</td>\n",
       "      <td>-0.129829</td>\n",
       "      <td>-0.536974</td>\n",
       "      <td>-0.580684</td>\n",
       "      <td>1.735197</td>\n",
       "      <td>NaN</td>\n",
       "    </tr>\n",
       "    <tr>\n",
       "      <th>B</th>\n",
       "      <td>-0.790510</td>\n",
       "      <td>-1.154619</td>\n",
       "      <td>-0.188317</td>\n",
       "      <td>-0.935653</td>\n",
       "      <td>1.088255</td>\n",
       "      <td>NaN</td>\n",
       "    </tr>\n",
       "    <tr>\n",
       "      <th>f</th>\n",
       "      <td>NaN</td>\n",
       "      <td>NaN</td>\n",
       "      <td>NaN</td>\n",
       "      <td>NaN</td>\n",
       "      <td>NaN</td>\n",
       "      <td>NaN</td>\n",
       "    </tr>\n",
       "    <tr>\n",
       "      <th>D</th>\n",
       "      <td>1.511395</td>\n",
       "      <td>-0.141668</td>\n",
       "      <td>-0.273792</td>\n",
       "      <td>-0.621282</td>\n",
       "      <td>-0.343855</td>\n",
       "      <td>NaN</td>\n",
       "    </tr>\n",
       "    <tr>\n",
       "      <th>E</th>\n",
       "      <td>0.530399</td>\n",
       "      <td>1.481996</td>\n",
       "      <td>1.265871</td>\n",
       "      <td>-0.759999</td>\n",
       "      <td>0.073899</td>\n",
       "      <td>NaN</td>\n",
       "    </tr>\n",
       "  </tbody>\n",
       "</table>\n",
       "</div>"
      ],
      "text/plain": [
       "         #1        #2        #3        #4        #5  #6\n",
       "A -0.139095 -0.129829 -0.536974 -0.580684  1.735197 NaN\n",
       "B -0.790510 -1.154619 -0.188317 -0.935653  1.088255 NaN\n",
       "f       NaN       NaN       NaN       NaN       NaN NaN\n",
       "D  1.511395 -0.141668 -0.273792 -0.621282 -0.343855 NaN\n",
       "E  0.530399  1.481996  1.265871 -0.759999  0.073899 NaN"
      ]
     },
     "execution_count": 94,
     "metadata": {},
     "output_type": "execute_result"
    }
   ],
   "source": [
    "example2.reindex(columns=new_columns)"
   ]
  },
  {
   "cell_type": "code",
   "execution_count": 95,
   "metadata": {},
   "outputs": [
    {
     "data": {
      "text/html": [
       "<div>\n",
       "<style scoped>\n",
       "    .dataframe tbody tr th:only-of-type {\n",
       "        vertical-align: middle;\n",
       "    }\n",
       "\n",
       "    .dataframe tbody tr th {\n",
       "        vertical-align: top;\n",
       "    }\n",
       "\n",
       "    .dataframe thead th {\n",
       "        text-align: right;\n",
       "    }\n",
       "</style>\n",
       "<table border=\"1\" class=\"dataframe\">\n",
       "  <thead>\n",
       "    <tr style=\"text-align: right;\">\n",
       "      <th></th>\n",
       "      <th>#1</th>\n",
       "      <th>#2</th>\n",
       "      <th>#3</th>\n",
       "      <th>#4</th>\n",
       "      <th>#5</th>\n",
       "    </tr>\n",
       "  </thead>\n",
       "  <tbody>\n",
       "    <tr>\n",
       "      <th>A</th>\n",
       "      <td>-0.139095</td>\n",
       "      <td>-0.129829</td>\n",
       "      <td>-0.536974</td>\n",
       "      <td>-0.580684</td>\n",
       "      <td>1.735197</td>\n",
       "    </tr>\n",
       "    <tr>\n",
       "      <th>B</th>\n",
       "      <td>-0.790510</td>\n",
       "      <td>-1.154619</td>\n",
       "      <td>-0.188317</td>\n",
       "      <td>-0.935653</td>\n",
       "      <td>1.088255</td>\n",
       "    </tr>\n",
       "    <tr>\n",
       "      <th>C</th>\n",
       "      <td>-0.013163</td>\n",
       "      <td>0.474256</td>\n",
       "      <td>0.919193</td>\n",
       "      <td>1.558943</td>\n",
       "      <td>0.155970</td>\n",
       "    </tr>\n",
       "    <tr>\n",
       "      <th>D</th>\n",
       "      <td>1.511395</td>\n",
       "      <td>-0.141668</td>\n",
       "      <td>-0.273792</td>\n",
       "      <td>-0.621282</td>\n",
       "      <td>-0.343855</td>\n",
       "    </tr>\n",
       "    <tr>\n",
       "      <th>E</th>\n",
       "      <td>0.530399</td>\n",
       "      <td>1.481996</td>\n",
       "      <td>1.265871</td>\n",
       "      <td>-0.759999</td>\n",
       "      <td>0.073899</td>\n",
       "    </tr>\n",
       "  </tbody>\n",
       "</table>\n",
       "</div>"
      ],
      "text/plain": [
       "         #1        #2        #3        #4        #5\n",
       "A -0.139095 -0.129829 -0.536974 -0.580684  1.735197\n",
       "B -0.790510 -1.154619 -0.188317 -0.935653  1.088255\n",
       "C -0.013163  0.474256  0.919193  1.558943  0.155970\n",
       "D  1.511395 -0.141668 -0.273792 -0.621282 -0.343855\n",
       "E  0.530399  1.481996  1.265871 -0.759999  0.073899"
      ]
     },
     "execution_count": 95,
     "metadata": {},
     "output_type": "execute_result"
    }
   ],
   "source": [
    "example"
   ]
  },
  {
   "cell_type": "code",
   "execution_count": 105,
   "metadata": {},
   "outputs": [
    {
     "name": "stderr",
     "output_type": "stream",
     "text": [
      "C:\\Users\\Naois\\Downloads\\Coding Software\\lib\\site-packages\\ipykernel_launcher.py:1: FutureWarning: \n",
      "Passing list-likes to .loc or [] with any missing label will raise\n",
      "KeyError in the future, you can use .reindex() as an alternative.\n",
      "\n",
      "See the documentation here:\n",
      "https://pandas.pydata.org/pandas-docs/stable/indexing.html#deprecate-loc-reindex-listlike\n",
      "  \"\"\"Entry point for launching an IPython kernel.\n"
     ]
    },
    {
     "data": {
      "text/html": [
       "<div>\n",
       "<style scoped>\n",
       "    .dataframe tbody tr th:only-of-type {\n",
       "        vertical-align: middle;\n",
       "    }\n",
       "\n",
       "    .dataframe tbody tr th {\n",
       "        vertical-align: top;\n",
       "    }\n",
       "\n",
       "    .dataframe thead th {\n",
       "        text-align: right;\n",
       "    }\n",
       "</style>\n",
       "<table border=\"1\" class=\"dataframe\">\n",
       "  <thead>\n",
       "    <tr style=\"text-align: right;\">\n",
       "      <th></th>\n",
       "      <th>#1</th>\n",
       "      <th>#2</th>\n",
       "      <th>#3</th>\n",
       "      <th>#4</th>\n",
       "      <th>#5</th>\n",
       "      <th>#6</th>\n",
       "    </tr>\n",
       "  </thead>\n",
       "  <tbody>\n",
       "    <tr>\n",
       "      <th>A</th>\n",
       "      <td>-0.139095</td>\n",
       "      <td>-0.129829</td>\n",
       "      <td>-0.536974</td>\n",
       "      <td>-0.580684</td>\n",
       "      <td>1.735197</td>\n",
       "      <td>NaN</td>\n",
       "    </tr>\n",
       "    <tr>\n",
       "      <th>B</th>\n",
       "      <td>-0.790510</td>\n",
       "      <td>-1.154619</td>\n",
       "      <td>-0.188317</td>\n",
       "      <td>-0.935653</td>\n",
       "      <td>1.088255</td>\n",
       "      <td>NaN</td>\n",
       "    </tr>\n",
       "    <tr>\n",
       "      <th>EXAMPLE</th>\n",
       "      <td>NaN</td>\n",
       "      <td>NaN</td>\n",
       "      <td>NaN</td>\n",
       "      <td>NaN</td>\n",
       "      <td>NaN</td>\n",
       "      <td>NaN</td>\n",
       "    </tr>\n",
       "    <tr>\n",
       "      <th>D</th>\n",
       "      <td>1.511395</td>\n",
       "      <td>-0.141668</td>\n",
       "      <td>-0.273792</td>\n",
       "      <td>-0.621282</td>\n",
       "      <td>-0.343855</td>\n",
       "      <td>NaN</td>\n",
       "    </tr>\n",
       "    <tr>\n",
       "      <th>E</th>\n",
       "      <td>0.530399</td>\n",
       "      <td>1.481996</td>\n",
       "      <td>1.265871</td>\n",
       "      <td>-0.759999</td>\n",
       "      <td>0.073899</td>\n",
       "      <td>NaN</td>\n",
       "    </tr>\n",
       "  </tbody>\n",
       "</table>\n",
       "</div>"
      ],
      "text/plain": [
       "               #1        #2        #3        #4        #5  #6\n",
       "A       -0.139095 -0.129829 -0.536974 -0.580684  1.735197 NaN\n",
       "B       -0.790510 -1.154619 -0.188317 -0.935653  1.088255 NaN\n",
       "EXAMPLE       NaN       NaN       NaN       NaN       NaN NaN\n",
       "D        1.511395 -0.141668 -0.273792 -0.621282 -0.343855 NaN\n",
       "E        0.530399  1.481996  1.265871 -0.759999  0.073899 NaN"
      ]
     },
     "execution_count": 105,
     "metadata": {},
     "output_type": "execute_result"
    }
   ],
   "source": [
    "example.loc[['A', 'B', 'EXAMPLE', 'D', 'E'], new_columns]              \n",
    "#Faster than indexing separately ('.iloc' doesn't work for this as this is label positioning -> '.loc')"
   ]
  }
 ],
 "metadata": {
  "kernelspec": {
   "display_name": "Python 3",
   "language": "python",
   "name": "python3"
  },
  "language_info": {
   "codemirror_mode": {
    "name": "ipython",
    "version": 3
   },
   "file_extension": ".py",
   "mimetype": "text/x-python",
   "name": "python",
   "nbconvert_exporter": "python",
   "pygments_lexer": "ipython3",
   "version": "3.6.5"
  }
 },
 "nbformat": 4,
 "nbformat_minor": 2
}
