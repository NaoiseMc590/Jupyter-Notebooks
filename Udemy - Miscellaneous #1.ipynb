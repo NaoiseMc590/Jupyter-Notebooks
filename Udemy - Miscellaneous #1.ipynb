{
 "cells": [
  {
   "cell_type": "code",
   "execution_count": 14,
   "metadata": {},
   "outputs": [
    {
     "name": "stdout",
     "output_type": "stream",
     "text": [
      "Ok\n",
      "Ok\n",
      "Ok\n",
      "\n",
      "\n",
      "Ok\n",
      "Ok\n",
      "Ok\n",
      "Ok\n",
      "Ok\n",
      "\n",
      "\n",
      "Yes\n",
      "Yes\n",
      "Yes\n",
      "Yes\n",
      "\n",
      "\n",
      "Goodbye\n",
      "Goodbye\n"
     ]
    }
   ],
   "source": [
    "#Name function parameters\n",
    "def test(number = 3, word = 'Ok'):                           #Default values as parameters\n",
    "    for i in range(0, number):\n",
    "        print(word)\n",
    "        \n",
    "test()\n",
    "print('\\n')\n",
    "test(5)                                                      #Default values can be overridden\n",
    "print('\\n') \n",
    "test(4, 'Yes')\n",
    "print('\\n')\n",
    "test(word = 'Goodbye', number = 2)                           #Order can be changed by using name of function parameters "
   ]
  },
  {
   "cell_type": "code",
   "execution_count": 18,
   "metadata": {},
   "outputs": [
    {
     "name": "stdout",
     "output_type": "stream",
     "text": [
      "3\n",
      "10\n"
     ]
    }
   ],
   "source": [
    "#How are function parameters passed in Python?\n",
    "x = 10\n",
    "\n",
    "def func(y):                                           #PRIMITIVE DATA TYPES (NUMBER/STRING/BOOLEAN)\n",
    "    y = 3                                              #Copy is created for you with primitive data types\n",
    "    print(y)\n",
    "    \n",
    "func(x)\n",
    "print(x)                                               #Value of 'x' not changed"
   ]
  },
  {
   "cell_type": "code",
   "execution_count": 24,
   "metadata": {},
   "outputs": [
    {
     "name": "stdout",
     "output_type": "stream",
     "text": [
      "['Ok', 'Yes', '!!!']\n",
      "['Ok', 'Yes', '!!!']\n"
     ]
    }
   ],
   "source": [
    "list = ['Ok', 'Yes']\n",
    "\n",
    "def func(y):\n",
    "    y.append('!!!')\n",
    "    print(y)\n",
    "    \n",
    "func(list)                             #Referring to 'list' above\n",
    "print(list)                            #Changed state of 'list'"
   ]
  },
  {
   "cell_type": "code",
   "execution_count": 23,
   "metadata": {},
   "outputs": [
    {
     "name": "stdout",
     "output_type": "stream",
     "text": [
      "['Ok', 'Yes']\n"
     ]
    }
   ],
   "source": [
    "list = ['Ok', 'Yes']\n",
    "\n",
    "def func(y):\n",
    "    y.append('!!!')\n",
    "    #print(y)\n",
    "    \n",
    "#func(list)                             #Referring to 'list' above\n",
    "print(list)       "
   ]
  },
  {
   "cell_type": "code",
   "execution_count": 27,
   "metadata": {},
   "outputs": [
    {
     "name": "stdout",
     "output_type": "stream",
     "text": [
      "['Ok', 'Yes', '!!!']\n",
      "['Ok', 'Yes']\n"
     ]
    }
   ],
   "source": [
    "list = ['Ok', 'Yes']\n",
    "\n",
    "def func(y):\n",
    "    y = ['Ok', 'Yes', '!!!']           #Overriding the list\n",
    "    print(y)\n",
    "    \n",
    "func(list)                             \n",
    "print(list)       "
   ]
  },
  {
   "cell_type": "code",
   "execution_count": 32,
   "metadata": {},
   "outputs": [
    {
     "name": "stdout",
     "output_type": "stream",
     "text": [
      "['Ok', 'Yes']\n",
      "['Ok', 'Yes', '!!!']\n",
      "['Ok', 'Yes']\n"
     ]
    }
   ],
   "source": [
    "list = ['Ok', 'Yes']\n",
    "\n",
    "def func(y):\n",
    "    y = y.copy()                        #Creates a copy of original\n",
    "    print(y)\n",
    "    y.append('!!!')\n",
    "    print(y)\n",
    "    \n",
    "func(list)                             #Referring to 'list' above\n",
    "print(list)       "
   ]
  },
  {
   "cell_type": "code",
   "execution_count": 1,
   "metadata": {},
   "outputs": [
    {
     "name": "stdout",
     "output_type": "stream",
     "text": [
      "1\n",
      "2\n",
      "3\n",
      "\n",
      "\n",
      "1\n",
      "2\n",
      "3\n"
     ]
    }
   ],
   "source": [
    "def f(a, b ,c,):\n",
    "    print(a)\n",
    "    print(b)\n",
    "    print(c)\n",
    "    \n",
    "list1 = [1, 2, 3,]\n",
    "f(list1[0], list1[1], list1[2])\n",
    "\n",
    "print('\\n')\n",
    "\n",
    "f(*list1)                                       #Can use instead of 'f(list1[0], list1[1], list1[2])'"
   ]
  },
  {
   "cell_type": "code",
   "execution_count": 47,
   "metadata": {},
   "outputs": [
    {
     "name": "stdout",
     "output_type": "stream",
     "text": [
      "2\n",
      "(2, 4, 6, 8, 12263, 163388448, 231736)\n"
     ]
    },
    {
     "data": {
      "text/plain": [
       "163388448"
      ]
     },
     "execution_count": 47,
     "metadata": {},
     "output_type": "execute_result"
    }
   ],
   "source": [
    "def example(*parameters):                 #'*' indicates flexible amount of parameters -> Tuples\n",
    "    print(parameters[0])\n",
    "    print(parameters)\n",
    "    \n",
    "    maxi = parameters[0]\n",
    "    for item in parameters:\n",
    "        if item > maxi:\n",
    "            maxi = item\n",
    "    \n",
    "    return maxi\n",
    "    \n",
    "example(2,4,6, 8, 12263, 163388448, 231736)"
   ]
  },
  {
   "cell_type": "code",
   "execution_count": 4,
   "metadata": {},
   "outputs": [
    {
     "name": "stdout",
     "output_type": "stream",
     "text": [
      "2\n",
      "(4, 6, 8, 12263, 163388448, 231736)\n"
     ]
    },
    {
     "data": {
      "text/plain": [
       "163388448"
      ]
     },
     "execution_count": 4,
     "metadata": {},
     "output_type": "execute_result"
    }
   ],
   "source": [
    "def example(maxi, *parameters):\n",
    "    print(maxi)                                 #Only prints the first max -> first element inputted\n",
    "    #print(parameters[0])\n",
    "    print(parameters)\n",
    "    \n",
    "    maxi = parameters[0]\n",
    "    for item in parameters:\n",
    "        if item > maxi:\n",
    "            maxi = item\n",
    "    \n",
    "    return maxi\n",
    "    \n",
    "example(2,4,6, 8, 12263, 163388448, 231736)"
   ]
  },
  {
   "cell_type": "code",
   "execution_count": 50,
   "metadata": {},
   "outputs": [
    {
     "name": "stdout",
     "output_type": "stream",
     "text": [
      "{'key': 'Value', 'key2': 'Value2'}\n"
     ]
    }
   ],
   "source": [
    "def ex(**kwargs):                                      #Dictionaries\n",
    "    print(kwargs)\n",
    "    \n",
    "ex(key='Value', key2='Value2')"
   ]
  },
  {
   "cell_type": "code",
   "execution_count": 53,
   "metadata": {},
   "outputs": [
    {
     "name": "stdout",
     "output_type": "stream",
     "text": [
      "Testing\n",
      "Testing again!\n",
      "Testing\n",
      "Testing again!\n"
     ]
    }
   ],
   "source": [
    "def ex2(key, parameter):\n",
    "    print(key) \n",
    "    print(parameter)\n",
    "\n",
    "d = {'key': 'Testing', 'parameter': 'Testing again!'}\n",
    "\n",
    "ex2(key=d['key'], parameter=d['parameter'])\n",
    "ex2(**d)                                               #Can be used instead of 'ex2(key=d['key'], parameter=d['parameter'])'"
   ]
  },
  {
   "cell_type": "code",
   "execution_count": 8,
   "metadata": {},
   "outputs": [],
   "source": [
    "%matplotlib inline\n",
    "from matplotlib import pyplot as plt"
   ]
  },
  {
   "cell_type": "code",
   "execution_count": 11,
   "metadata": {},
   "outputs": [
    {
     "name": "stdout",
     "output_type": "stream",
     "text": [
      "{'color': 'orange', 'linewidth': 10, 'linestyle': 'dashed'}\n"
     ]
    },
    {
     "data": {
      "image/png": "[encoded data removed]",
      "text/plain": [
       "<Figure size 432x288 with 1 Axes>"
      ]
     },
     "metadata": {},
     "output_type": "display_data"
    }
   ],
   "source": [
    "#Example of use of '**kwargs'\n",
    "def create(**plot2):\n",
    "    print(plot2)                                                           #Not essential \n",
    "    plt.plot([1, 2, 3], [5, 6, 5], **plot2)\n",
    "    plt.show()\n",
    "\n",
    "create(color = 'orange', linewidth = 10, linestyle = 'dashed')             #Can be implemented in data visualisation"
   ]
  },
  {
   "cell_type": "code",
   "execution_count": 75,
   "metadata": {},
   "outputs": [
    {
     "name": "stdout",
     "output_type": "stream",
     "text": [
      "['David', 'John', 'Mustermann', 'Richard', 'Thomas']\n"
     ]
    }
   ],
   "source": [
    "#Sorting data\n",
    "list = ['David', 'John', 'Richard', 'Thomas', 'Mustermann']\n",
    "list.sort()                                                       #Sorts elements in lists by alphabetical order of first letter\n",
    "print(list)"
   ]
  },
  {
   "cell_type": "code",
   "execution_count": 76,
   "metadata": {},
   "outputs": [
    {
     "name": "stdout",
     "output_type": "stream",
     "text": [
      "['Thomas', 'Richard', 'John', 'David']\n"
     ]
    }
   ],
   "source": [
    "list = ['David', 'John', 'Richard', 'Thomas']\n",
    "list.sort(reverse = True)                                         #Reverses order of list from above\n",
    "print(list)"
   ]
  },
  {
   "cell_type": "code",
   "execution_count": 15,
   "metadata": {},
   "outputs": [
    {
     "name": "stdout",
     "output_type": "stream",
     "text": [
      "['John', 'David', 'Thomas', 'Richard', 'Mustermann']\n",
      "\n",
      "\n",
      "['Mustermann', 'Richard', 'Thomas', 'David', 'John']\n"
     ]
    }
   ],
   "source": [
    "#def length(item):\n",
    "    #return len(item)                                             #Can be used but not essential\n",
    "\n",
    "list = ['David', 'John', 'Richard', 'Thomas', 'Mustermann']\n",
    "list.sort(key = len)                                              #Sorts elements in list by no. of letters in each element\n",
    "print(list)\n",
    "\n",
    "print('\\n')\n",
    "\n",
    "list.sort(key = len, reverse = True)        \n",
    "print(list)"
   ]
  },
  {
   "cell_type": "code",
   "execution_count": 82,
   "metadata": {},
   "outputs": [
    {
     "name": "stdout",
     "output_type": "stream",
     "text": [
      "['Madrid', 'London', 'Berlin']\n"
     ]
    }
   ],
   "source": [
    "dic = {'Berlin': 'BER', 'London': 'LDN', 'Madrid': 'MAD'}\n",
    "\n",
    "print(sorted(dic, reverse = True))                               #Sorts in reverse order of first letter"
   ]
  },
  {
   "cell_type": "code",
   "execution_count": 83,
   "metadata": {},
   "outputs": [
    {
     "name": "stdout",
     "output_type": "stream",
     "text": [
      "['David', 'John', 'Thomas']\n"
     ]
    }
   ],
   "source": [
    "l = ['John', 'David', 'Thomas']\n",
    "l.sort()\n",
    "print(l)"
   ]
  },
  {
   "cell_type": "code",
   "execution_count": 85,
   "metadata": {},
   "outputs": [
    {
     "name": "stdout",
     "output_type": "stream",
     "text": [
      "['David', 'John', 'Thomas']\n",
      "['John', 'David', 'Thomas']\n"
     ]
    }
   ],
   "source": [
    "l = ['John', 'David', 'Thomas']\n",
    "l2 = sorted(l)\n",
    "print(l2)\n",
    "print(l)"
   ]
  },
  {
   "cell_type": "code",
   "execution_count": 102,
   "metadata": {},
   "outputs": [
    {
     "name": "stdout",
     "output_type": "stream",
     "text": [
      "[('David', 5), ('John', 3), ('Richard', 4), ('Thomas', 10)]\n",
      "[('John', 3), ('Richard', 4), ('David', 5), ('Thomas', 10)]\n",
      "[('John', 3), ('Richard', 4), ('David', 5), ('Thomas', 10)]\n"
     ]
    }
   ],
   "source": [
    "#lambda function\n",
    "names = [\n",
    "    ('John', 3),\n",
    "    ('David', 5),\n",
    "    ('Thomas', 10),\n",
    "    ('Richard', 4)\n",
    "]\n",
    "\n",
    "def names_key(names):                                    #Must create your own function in order to sort by year -> Method #1\n",
    "    return names[1]\n",
    "\n",
    "names.sort()\n",
    "print(names)                                           #Function from above IS NOT  being called\n",
    "\n",
    "print('\\n')\n",
    "\n",
    "names.sort(key = names_key)\n",
    "print(names)                                       #Function from above IS being called\n",
    "names.sort(key=lambda name: name[1])           #Implement a lambda function -> Method #2 ('name: name[2]' is same as return name)\n",
    "print(names)"
   ]
  },
  {
   "cell_type": "code",
   "execution_count": 107,
   "metadata": {},
   "outputs": [
    {
     "data": {
      "text/plain": [
       "1"
      ]
     },
     "execution_count": 107,
     "metadata": {},
     "output_type": "execute_result"
    }
   ],
   "source": [
    "x = lambda name: name[1]\n",
    "x(('Thomas', 1))"
   ]
  },
  {
   "cell_type": "code",
   "execution_count": 108,
   "metadata": {},
   "outputs": [],
   "source": [
    "#Regular expressions\n",
    "import re"
   ]
  },
  {
   "cell_type": "code",
   "execution_count": 112,
   "metadata": {},
   "outputs": [
    {
     "name": "stdout",
     "output_type": "stream",
     "text": [
      "['30', '4', '2']\n"
     ]
    }
   ],
   "source": [
    "test = 'I have 30 dogs that need 4 litres of waterrrr and 2kg of food each'\n",
    "\n",
    "print(re.findall('[0-9]+', test))                       #'+' indicates multiple numbers combined together (30, 588, 2214 etc.)"
   ]
  },
  {
   "cell_type": "code",
   "execution_count": 116,
   "metadata": {},
   "outputs": [
    {
     "data": {
      "text/plain": [
       "<_sre.SRE_Match object; span=(7, 9), match='30'>"
      ]
     },
     "execution_count": 116,
     "metadata": {},
     "output_type": "execute_result"
    }
   ],
   "source": [
    "print(re.search('[0-9]+', test))                        #Prints 1st match only "
   ]
  },
  {
   "cell_type": "code",
   "execution_count": 120,
   "metadata": {},
   "outputs": [
    {
     "name": "stdout",
     "output_type": "stream",
     "text": [
      "<_sre.SRE_Match object; span=(20, 24), match='need'>\n",
      "<_sre.SRE_Match object; span=(37, 42), match='water'>\n"
     ]
    }
   ],
   "source": [
    "print(re.search('need', test))\n",
    "print(re.search('water', test))                         #Still valid and functional as 'water' is found in 'waterrrr'"
   ]
  },
  {
   "cell_type": "code",
   "execution_count": 124,
   "metadata": {},
   "outputs": [
    {
     "name": "stdout",
     "output_type": "stream",
     "text": [
      "<_sre.SRE_Match object; span=(6, 9), match='the'>\n",
      "<_sre.SRE_Match object; span=(6, 9), match='the'>\n"
     ]
    }
   ],
   "source": [
    "print(re.search('the*', 'Hello the hello'))             #'*' zero or more repetitions\n",
    "print(re.search('the+', 'Hello the the hello'))         #'+' one or more repetitions"
   ]
  },
  {
   "cell_type": "code",
   "execution_count": 133,
   "metadata": {},
   "outputs": [
    {
     "name": "stdout",
     "output_type": "stream",
     "text": [
      "<_sre.SRE_Match object; span=(6, 7), match='1'>\n",
      "<_sre.SRE_Match object; span=(6, 9), match='123'>\n",
      "['123', '567']\n",
      "['Hello', 'world']\n"
     ]
    }
   ],
   "source": [
    "print(re.search('[0-9]', 'Hello 123 world'))           #Prints 1st match only\n",
    "print(re.search('[0-9]+', 'Hello 123 world'))          #Prints all matches found in 'Hello 123 world'\n",
    "print(re.findall('[0-9]+', 'Hello 123 567 world'))\n",
    "print(re.findall('[a-zA-Z]+', 'Hello 123 world'))"
   ]
  }
 ],
 "metadata": {
  "kernelspec": {
   "display_name": "Python 3",
   "language": "python",
   "name": "python3"
  },
  "language_info": {
   "codemirror_mode": {
    "name": "ipython",
    "version": 3
   },
   "file_extension": ".py",
   "mimetype": "text/x-python",
   "name": "python",
   "nbconvert_exporter": "python",
   "pygments_lexer": "ipython3",
   "version": "3.6.5"
  }
 },
 "nbformat": 4,
 "nbformat_minor": 2
}
