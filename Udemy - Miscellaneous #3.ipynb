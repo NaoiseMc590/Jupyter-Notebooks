{
 "cells": [
  {
   "cell_type": "code",
   "execution_count": 4,
   "metadata": {},
   "outputs": [
    {
     "name": "stdout",
     "output_type": "stream",
     "text": [
      "This is a valid request for personal information\n",
      "Please enter your age: 21\n"
     ]
    }
   ],
   "source": [
    "#Input functions\n",
    "print('This is a valid request for personal information')\n",
    "age = input('Please enter your age: ')"
   ]
  },
  {
   "cell_type": "code",
   "execution_count": 10,
   "metadata": {},
   "outputs": [
    {
     "name": "stdout",
     "output_type": "stream",
     "text": [
      "21\n",
      "<class 'str'>\n"
     ]
    }
   ],
   "source": [
    "print(age)\n",
    "print(type(age))"
   ]
  },
  {
   "cell_type": "code",
   "execution_count": 11,
   "metadata": {},
   "outputs": [
    {
     "name": "stdout",
     "output_type": "stream",
     "text": [
      "Please enter another age: 24\n",
      "24\n"
     ]
    }
   ],
   "source": [
    "age2 = input('Please enter another age: ')\n",
    "print(age2)"
   ]
  },
  {
   "cell_type": "code",
   "execution_count": 13,
   "metadata": {},
   "outputs": [
    {
     "name": "stdout",
     "output_type": "stream",
     "text": [
      "45\n"
     ]
    }
   ],
   "source": [
    "print(int(age) + int(age2))"
   ]
  },
  {
   "cell_type": "code",
   "execution_count": 15,
   "metadata": {},
   "outputs": [
    {
     "name": "stdout",
     "output_type": "stream",
     "text": [
      "Please enter your age: 25.5\n",
      "25.5\n"
     ]
    }
   ],
   "source": [
    "age3= input('Please enter your age: ')\n",
    "print(age3)"
   ]
  },
  {
   "cell_type": "code",
   "execution_count": 16,
   "metadata": {},
   "outputs": [
    {
     "name": "stdout",
     "output_type": "stream",
     "text": [
      "Please enter your age: 21.1\n",
      "21.1\n"
     ]
    }
   ],
   "source": [
    "age4 = input('Please enter your age: ')\n",
    "print(age4)"
   ]
  },
  {
   "cell_type": "code",
   "execution_count": 21,
   "metadata": {},
   "outputs": [
    {
     "name": "stdout",
     "output_type": "stream",
     "text": [
      "46.6\n"
     ]
    }
   ],
   "source": [
    "print(float(age3) + float(age4))"
   ]
  },
  {
   "cell_type": "code",
   "execution_count": 69,
   "metadata": {},
   "outputs": [
    {
     "name": "stdout",
     "output_type": "stream",
     "text": [
      "Please enter your weight in kilograms: 63.0\n",
      "63.0\n"
     ]
    }
   ],
   "source": [
    "#BMI Calculator Challenge\n",
    "weight = input('Please enter your weight in kilograms: ')\n",
    "print(weight)\n",
    "#weight2 = float(weight)                                  #Can be used to convert non-float to float before 'float(weight)' below"
   ]
  },
  {
   "cell_type": "code",
   "execution_count": 70,
   "metadata": {},
   "outputs": [
    {
     "name": "stdout",
     "output_type": "stream",
     "text": [
      "Please enter your height in meters: 1.85\n",
      "1.85\n"
     ]
    }
   ],
   "source": [
    "height = input('Please enter your height in meters: ')\n",
    "print(height)"
   ]
  },
  {
   "cell_type": "code",
   "execution_count": 71,
   "metadata": {},
   "outputs": [
    {
     "name": "stdout",
     "output_type": "stream",
     "text": [
      "3.42\n"
     ]
    }
   ],
   "source": [
    "height2 = round(float(height) * float(height), 2)\n",
    "print(height2)"
   ]
  },
  {
   "cell_type": "code",
   "execution_count": 74,
   "metadata": {
    "scrolled": true
   },
   "outputs": [
    {
     "name": "stdout",
     "output_type": "stream",
     "text": [
      "This is your current BMI based on your inputted values: 18.4\n"
     ]
    }
   ],
   "source": [
    "result =  round(float(weight) / float(height2), 1)\n",
    "print('This is your current BMI based on your inputted values:', result)"
   ]
  },
  {
   "cell_type": "code",
   "execution_count": 83,
   "metadata": {},
   "outputs": [
    {
     "name": "stdout",
     "output_type": "stream",
     "text": [
      "Your current BMI is: 18.4\n"
     ]
    }
   ],
   "source": [
    "BMI = float(weight)/float(height2)                                          #Method #2\n",
    "print('Your current BMI is: ' + str(round(BMI, 1)))"
   ]
  },
  {
   "cell_type": "code",
   "execution_count": 84,
   "metadata": {},
   "outputs": [
    {
     "name": "stdout",
     "output_type": "stream",
     "text": [
      "Please enter something: Hello!\n",
      "Hello!\n"
     ]
    }
   ],
   "source": [
    "user = input('Please enter something: ')\n",
    "print(user)"
   ]
  },
  {
   "cell_type": "code",
   "execution_count": 85,
   "metadata": {},
   "outputs": [],
   "source": [
    "import sys"
   ]
  },
  {
   "cell_type": "code",
   "execution_count": 86,
   "metadata": {},
   "outputs": [
    {
     "name": "stdout",
     "output_type": "stream",
     "text": [
      "['C:\\\\Users\\\\Naois\\\\Downloads\\\\Coding Software\\\\lib\\\\site-packages\\\\ipykernel_launcher.py', '-f', 'C:\\\\Users\\\\Naois\\\\AppData\\\\Roaming\\\\jupyter\\\\runtime\\\\kernel-4c49f571-cbc4-46af-8e4f-9562478f661c.json']\n"
     ]
    }
   ],
   "source": [
    "print(sys.argv)"
   ]
  },
  {
   "cell_type": "code",
   "execution_count": 87,
   "metadata": {},
   "outputs": [],
   "source": [
    "#UTF-8  ->   One character set for all characters, including emojis"
   ]
  }
 ],
 "metadata": {
  "kernelspec": {
   "display_name": "Python 3",
   "language": "python",
   "name": "python3"
  },
  "language_info": {
   "codemirror_mode": {
    "name": "ipython",
    "version": 3
   },
   "file_extension": ".py",
   "mimetype": "text/x-python",
   "name": "python",
   "nbconvert_exporter": "python",
   "pygments_lexer": "ipython3",
   "version": "3.6.5"
  }
 },
 "nbformat": 4,
 "nbformat_minor": 2
}
