{
 "cells": [
  {
   "cell_type": "code",
   "execution_count": null,
   "metadata": {},
   "outputs": [],
   "source": [
    "#Jupyter functionalities\n",
    "\n",
    "#Blue = 'command mode'  \n",
    "#Green = 'command mode'"
   ]
  },
  {
   "cell_type": "markdown",
   "metadata": {},
   "source": [
    "# Markdown Mode - The number of hashes affects the size of the markdown text\n",
    "### Markdown Mode - The number of hashes affects the size of the markdown text\n",
    "###### Markdown Mode - The number of hashes affects the size of the markdown text"
   ]
  },
  {
   "cell_type": "code",
   "execution_count": null,
   "metadata": {},
   "outputs": [],
   "source": [
    "print('Hello World')    #This is 'code' mode "
   ]
  },
  {
   "cell_type": "markdown",
   "metadata": {},
   "source": [
    "print('Hello World')    #This is 'markdown' mode - press 'Y' to convert back to code mode"
   ]
  },
  {
   "cell_type": "markdown",
   "metadata": {},
   "source": [
    "#Markdowns              #To change from code mode to markdown mode -> Press esc and then m"
   ]
  },
  {
   "cell_type": "markdown",
   "metadata": {},
   "source": [
    "# This is a *very*  **good** example \n",
    "\n",
    "I am *using*, at the moment, **Jupyter Notebook** - single asterisk for *italics* and double asterisk for **bold**"
   ]
  },
  {
   "cell_type": "markdown",
   "metadata": {},
   "source": [
    "- One\n",
    "- Two\n",
    "- Three"
   ]
  },
  {
   "cell_type": "markdown",
   "metadata": {},
   "source": [
    "1. Test                                                           \n",
    "2. Example                                                         \n",
    "3. Testing                                                         "
   ]
  },
  {
   "cell_type": "markdown",
   "metadata": {},
   "source": [
    "Example of plain text\n",
    "> This is indented (Use '>')"
   ]
  },
  {
   "cell_type": "markdown",
   "metadata": {},
   "source": [
    "| Column Header 1 | Column Header 2|\n",
    "|-----------------|----------------|\n",
    "| Contents 1      | Contents 2     |\n",
    "| Contents 3      | Contents 4     |"
   ]
  },
  {
   "cell_type": "code",
   "execution_count": null,
   "metadata": {},
   "outputs": [],
   "source": [
    "#Code for above table (Or double click table to see source code)\n",
    "| Column Header 1 | Column Header 2|\n",
    "|-----------------|----------------|\n",
    "| Contents 1      | Contents 2     |\n",
    "| Contents 3      | Contents 4     |"
   ]
  },
  {
   "cell_type": "markdown",
   "metadata": {},
   "source": [
    "Latex - Used for mathematical formulae\n",
    "\n",
    "a < b (Normal text)\n",
    "\n",
    "\n",
    "$ \\alpha \\leq \\beta $ \n",
    "\n",
    "$ a^2 \\ngeqslant b^3 $ \n",
    "\n",
    "Given the equation: $$ a^2 < \\sqrt {b} $$\n",
    "\n",
    "The mathematical formula is: $$ \\frac{n!}{k!(n-k)!} = \\binom{n}{k} $$             "
   ]
  },
  {
   "cell_type": "code",
   "execution_count": 5,
   "metadata": {},
   "outputs": [
    {
     "data": {
      "text/plain": [
       "True"
      ]
     },
     "execution_count": 5,
     "metadata": {},
     "output_type": "execute_result"
    }
   ],
   "source": [
    "#LINK TO LaTeX MATH\n",
    "import webbrowser                                                    #Used in order to access certain websites\n",
    "websites = 'https://en.wikibooks.org/wiki/LaTeX/Mathematics'\n",
    "webbrowser.open(websites)"
   ]
  },
  {
   "cell_type": "code",
   "execution_count": 6,
   "metadata": {},
   "outputs": [
    {
     "data": {
      "text/plain": [
       "True"
      ]
     },
     "execution_count": 6,
     "metadata": {},
     "output_type": "execute_result"
    }
   ],
   "source": [
    "#LINK TO MATHEMATICAL CHARACTERS\n",
    "import webbrowser                                                    #Used in order to access certain websites\n",
    "websites = 'http://oeis.org/wiki/List_of_LaTeX_mathematical_symbols'\n",
    "webbrowser.open(websites)"
   ]
  },
  {
   "cell_type": "code",
   "execution_count": 1,
   "metadata": {},
   "outputs": [],
   "source": [
    "#Jupyter widgets - Text input fields, buttons & sliders\n",
    "import ipywidgets as widgets\n",
    "from IPython.display import display"
   ]
  },
  {
   "cell_type": "code",
   "execution_count": 2,
   "metadata": {},
   "outputs": [
    {
     "data": {
      "application/vnd.jupyter.widget-view+json": {
       "model_id": "6d8dc224851c4334b3e0e88ac4d8352a",
       "version_major": 2,
       "version_minor": 0
      },
      "text/plain": [
       "Button(button_style='success', description='Test', style=ButtonStyle(), tooltip='Testing')"
      ]
     },
     "metadata": {},
     "output_type": "display_data"
    }
   ],
   "source": [
    "widgets.Button(description = 'Test', tooltip = 'Testing', button_style = 'success')  #'button_style' indicates button colour"
   ]
  },
  {
   "cell_type": "code",
   "execution_count": 3,
   "metadata": {},
   "outputs": [
    {
     "data": {
      "application/vnd.jupyter.widget-view+json": {
       "model_id": "62159d661572446ab79ada04a9437441",
       "version_major": 2,
       "version_minor": 0
      },
      "text/plain": [
       "Button(button_style='info', description='Test', style=ButtonStyle(), tooltip='Testing')"
      ]
     },
     "metadata": {},
     "output_type": "display_data"
    }
   ],
   "source": [
    "widgets.Button(description = 'Test', tooltip = 'Testing', button_style = 'info')"
   ]
  },
  {
   "cell_type": "code",
   "execution_count": 4,
   "metadata": {},
   "outputs": [
    {
     "data": {
      "application/vnd.jupyter.widget-view+json": {
       "model_id": "a6d253d2982f4acf818ed1bf9d8d6534",
       "version_major": 2,
       "version_minor": 0
      },
      "text/plain": [
       "Button(button_style='danger', description='Test', style=ButtonStyle(), tooltip='Testing')"
      ]
     },
     "metadata": {},
     "output_type": "display_data"
    }
   ],
   "source": [
    "widgets.Button(description = 'Test', tooltip = 'Testing', button_style = 'danger')"
   ]
  },
  {
   "cell_type": "code",
   "execution_count": 5,
   "metadata": {},
   "outputs": [
    {
     "data": {
      "application/vnd.jupyter.widget-view+json": {
       "model_id": "1023bb36d09441949443cdbe26467dc7",
       "version_major": 2,
       "version_minor": 0
      },
      "text/plain": [
       "Text(value='123', description='Example Text')"
      ]
     },
     "metadata": {},
     "output_type": "display_data"
    }
   ],
   "source": [
    "widgets.Text(description = 'Example Text', value = '123')"
   ]
  },
  {
   "cell_type": "code",
   "execution_count": 6,
   "metadata": {},
   "outputs": [
    {
     "data": {
      "application/vnd.jupyter.widget-view+json": {
       "model_id": "d7c7eb7284664c69880c49cdc84857c6",
       "version_major": 2,
       "version_minor": 0
      },
      "text/plain": [
       "IntText(value=123, description='Test')"
      ]
     },
     "metadata": {},
     "output_type": "display_data"
    }
   ],
   "source": [
    "widgets.IntText(description = 'Test', value = 123)                                      #Integers only except 'e' -> Exponential"
   ]
  },
  {
   "cell_type": "code",
   "execution_count": 7,
   "metadata": {},
   "outputs": [
    {
     "data": {
      "application/vnd.jupyter.widget-view+json": {
       "model_id": "87e8d06715de484b921027bd15f2f271",
       "version_major": 2,
       "version_minor": 0
      },
      "text/plain": [
       "FloatText(value=123.0, description='Enter')"
      ]
     },
     "metadata": {},
     "output_type": "display_data"
    }
   ],
   "source": [
    "widgets.FloatText(description = 'Enter', value = 123)"
   ]
  },
  {
   "cell_type": "code",
   "execution_count": 8,
   "metadata": {},
   "outputs": [
    {
     "data": {
      "application/vnd.jupyter.widget-view+json": {
       "model_id": "417e25d5dfac430995554e1eb8dee657",
       "version_major": 2,
       "version_minor": 0
      },
      "text/plain": [
       "RadioButtons(description='Favourite?:', options=('Baseball', 'Football', 'Basketball'), value='Baseball')"
      ]
     },
     "metadata": {},
     "output_type": "display_data"
    }
   ],
   "source": [
    "widgets.RadioButtons(\n",
    "      options = ['Baseball', 'Football', 'Basketball'],\n",
    "      description = 'Favourite?:',\n",
    "      disabled = False                                               #Indicates whether or not buttons can be pressed\n",
    ")                                                                    #Only 1 option can be selected"
   ]
  },
  {
   "cell_type": "code",
   "execution_count": 9,
   "metadata": {},
   "outputs": [
    {
     "data": {
      "application/vnd.jupyter.widget-view+json": {
       "model_id": "cc4cff37ab734cb89a12e5ee215ff3c2",
       "version_major": 2,
       "version_minor": 0
      },
      "text/plain": [
       "Dropdown(description='Favourite?:', options=('Baseball', 'Football', 'Basketball'), value='Baseball')"
      ]
     },
     "metadata": {},
     "output_type": "display_data"
    }
   ],
   "source": [
    "widgets.Dropdown(\n",
    "      options = ['Baseball', 'Football', 'Basketball'],\n",
    "      description = 'Favourite?:',\n",
    "      disabled = False                                               \n",
    ")                            #Only 1 option can be selected -> See 'SelectMultiple/ToggleButtons' for selecting multiple options"
   ]
  },
  {
   "cell_type": "code",
   "execution_count": 10,
   "metadata": {},
   "outputs": [
    {
     "data": {
      "application/vnd.jupyter.widget-view+json": {
       "model_id": "e962e38964034475b468d4c000dddcb5",
       "version_major": 2,
       "version_minor": 0
      },
      "text/plain": [
       "IntText(value=21, description='Age')"
      ]
     },
     "metadata": {},
     "output_type": "display_data"
    },
    {
     "name": "stdout",
     "output_type": "stream",
     "text": [
      "IntText(value=21, description='Age')\n",
      "21\n",
      "Age\n"
     ]
    }
   ],
   "source": [
    "years = widgets.IntText(description = 'Age', value = 21)\n",
    "                       #disabled = True\n",
    "              #Not displayed -> Only stored as variable 'years'\n",
    "display(years)\n",
    "print(years)\n",
    "print(years.value)\n",
    "print(years.description)"
   ]
  },
  {
   "cell_type": "code",
   "execution_count": 11,
   "metadata": {},
   "outputs": [
    {
     "data": {
      "application/vnd.jupyter.widget-view+json": {
       "model_id": "9f96a64fbc184d0fab442acf1d86be40",
       "version_major": 2,
       "version_minor": 0
      },
      "text/plain": [
       "Button(button_style='info', description='This is a button', style=ButtonStyle())"
      ]
     },
     "metadata": {},
     "output_type": "display_data"
    }
   ],
   "source": [
    "button = widgets.Button(description = 'This is a button', button_style = 'info')\n",
    "display(button)\n",
    "\n",
    "def func(button):                                       #Function can't be empty -> Must contain variable from above as argument\n",
    "    print(button)\n",
    "    print('You just clicked the button')\n",
    "\n",
    "button.on_click(func)"
   ]
  },
  {
   "cell_type": "code",
   "execution_count": 12,
   "metadata": {},
   "outputs": [
    {
     "data": {
      "application/vnd.jupyter.widget-view+json": {
       "model_id": "50210c2178d74f72824001491f83ac69",
       "version_major": 2,
       "version_minor": 0
      },
      "text/plain": [
       "IntText(value=21, description='Age')"
      ]
     },
     "metadata": {},
     "output_type": "display_data"
    },
    {
     "data": {
      "application/vnd.jupyter.widget-view+json": {
       "model_id": "4f980b7e286540ed9e4c427bd1dbdb6f",
       "version_major": 2,
       "version_minor": 0
      },
      "text/plain": [
       "Button(button_style='info', description='This is a button', style=ButtonStyle())"
      ]
     },
     "metadata": {},
     "output_type": "display_data"
    }
   ],
   "source": [
    "years = widgets.IntText(description = 'Age', value = 21)\n",
    "display(years)\n",
    "\n",
    "button = widgets.Button(description = 'This is a button', button_style = 'info')\n",
    "display(button)\n",
    "\n",
    "def func(button):\n",
    "    print(years.value)\n",
    "\n",
    "button.on_click(func)"
   ]
  },
  {
   "cell_type": "code",
   "execution_count": 13,
   "metadata": {},
   "outputs": [
    {
     "data": {
      "application/vnd.jupyter.widget-view+json": {
       "model_id": "dc0b3ba55aba41a580a79f99a7bea6f8",
       "version_major": 2,
       "version_minor": 0
      },
      "text/plain": [
       "FloatSlider(value=0.0, continuous_update=False, description='Difficulty:', max=10.0, readout_format='.1f', ste…"
      ]
     },
     "metadata": {},
     "output_type": "display_data"
    }
   ],
   "source": [
    "#Other types of widgets\n",
    "widgets.FloatSlider(\n",
    "    value=0,\n",
    "    min=0,\n",
    "    max=10,\n",
    "    step=0.5,\n",
    "    description='Difficulty:',\n",
    "    disabled=False,\n",
    "    continuous_update=False,\n",
    "    orientation='horizontal',\n",
    "    readout=True,\n",
    "    readout_format='.1f',\n",
    ")"
   ]
  },
  {
   "cell_type": "code",
   "execution_count": 14,
   "metadata": {},
   "outputs": [
    {
     "data": {
      "application/vnd.jupyter.widget-view+json": {
       "model_id": "ed9cf7c1385245468c700eb715e21123",
       "version_major": 2,
       "version_minor": 0
      },
      "text/plain": [
       "FloatSlider(value=50.0, continuous_update=False, description='Percentage', orientation='vertical', readout_for…"
      ]
     },
     "metadata": {},
     "output_type": "display_data"
    }
   ],
   "source": [
    "widgets.FloatSlider(\n",
    "    value=50,\n",
    "    min=0,\n",
    "    max=100.0,\n",
    "    step=0.1,\n",
    "    description='Percentage',\n",
    "    disabled=False,\n",
    "    continuous_update=False,\n",
    "    orientation='vertical',\n",
    "    readout=True,\n",
    "    readout_format='.1f',\n",
    ")"
   ]
  },
  {
   "cell_type": "code",
   "execution_count": 15,
   "metadata": {},
   "outputs": [
    {
     "data": {
      "application/vnd.jupyter.widget-view+json": {
       "model_id": "1b0f2b51111d47fc80c311d0e0f5fa8f",
       "version_major": 2,
       "version_minor": 0
      },
      "text/plain": [
       "IntSlider(value=50, continuous_update=False, description='Test:')"
      ]
     },
     "metadata": {},
     "output_type": "display_data"
    }
   ],
   "source": [
    "widgets.IntSlider(\n",
    "    value=50,\n",
    "    min=0,\n",
    "    max=100,\n",
    "    step=1,\n",
    "    description='Test:',\n",
    "    disabled=False,\n",
    "    continuous_update=False,\n",
    "    orientation='horizontal',\n",
    "    readout=True,\n",
    "    readout_format='d',\n",
    ")"
   ]
  },
  {
   "cell_type": "code",
   "execution_count": 16,
   "metadata": {},
   "outputs": [
    {
     "data": {
      "application/vnd.jupyter.widget-view+json": {
       "model_id": "b7560aa25a184563a6170b6c8740c962",
       "version_major": 2,
       "version_minor": 0
      },
      "text/plain": [
       "IntRangeSlider(value=(20, 50), continuous_update=False, description='Results:')"
      ]
     },
     "metadata": {},
     "output_type": "display_data"
    }
   ],
   "source": [
    "widgets.IntRangeSlider(\n",
    "    value=[20, 50],\n",
    "    min=0,\n",
    "    max=100,\n",
    "    step=1,\n",
    "    description='Results:',\n",
    "    disabled=False,\n",
    "    continuous_update=False,\n",
    "    orientation='horizontal',\n",
    "    readout=True,\n",
    "    readout_format='d',\n",
    ")"
   ]
  },
  {
   "cell_type": "code",
   "execution_count": 17,
   "metadata": {},
   "outputs": [
    {
     "data": {
      "application/vnd.jupyter.widget-view+json": {
       "model_id": "2eb5d3a07a374fb2806aeb42fdb1a795",
       "version_major": 2,
       "version_minor": 0
      },
      "text/plain": [
       "IntProgress(value=50, bar_style='danger', description='Loading:')"
      ]
     },
     "metadata": {},
     "output_type": "display_data"
    }
   ],
   "source": [
    "widgets.IntProgress(\n",
    "    value=50,\n",
    "    min=0,\n",
    "    max=100,\n",
    "    step=1,\n",
    "    description='Loading:',\n",
    "    bar_style='danger', # 'success', 'info', 'warning', 'danger' or ''\n",
    "    orientation='horizontal'\n",
    ")"
   ]
  },
  {
   "cell_type": "code",
   "execution_count": 18,
   "metadata": {},
   "outputs": [
    {
     "data": {
      "application/vnd.jupyter.widget-view+json": {
       "model_id": "f6e5e1cfc6bc4690aeb321f0866c71ca",
       "version_major": 2,
       "version_minor": 0
      },
      "text/plain": [
       "Checkbox(value=False, description='Click it!')"
      ]
     },
     "metadata": {},
     "output_type": "display_data"
    }
   ],
   "source": [
    "widgets.Checkbox(\n",
    "          description='Click it!',\n",
    "          Checkbox_style = 'info',\n",
    "          value=False,\n",
    "          disabled=False\n",
    ")"
   ]
  },
  {
   "cell_type": "code",
   "execution_count": 19,
   "metadata": {},
   "outputs": [
    {
     "data": {
      "application/vnd.jupyter.widget-view+json": {
       "model_id": "289393d2881a44ea8ce77acc05a8e1a4",
       "version_major": 2,
       "version_minor": 0
      },
      "text/plain": [
       "ToggleButtons(button_style='info', description='Sport:', options=('Baseball', 'Football', 'Basketball'), toolt…"
      ]
     },
     "metadata": {},
     "output_type": "display_data"
    }
   ],
   "source": [
    "widgets.ToggleButtons(                                          #Note 'ToggleButtonS', not 'ToggleButton'\n",
    "    options = ['Baseball', 'Football', 'Basketball'],\n",
    "    description = 'Sport:',\n",
    "    disabled=False,\n",
    "    button_style='info',\n",
    "    tooltips = ['Description of Baseball', 'Description of Football', 'Description of Basketball'],\n",
    "    icon='check'\n",
    ")"
   ]
  },
  {
   "cell_type": "code",
   "execution_count": 20,
   "metadata": {},
   "outputs": [
    {
     "data": {
      "application/vnd.jupyter.widget-view+json": {
       "model_id": "73793bf82b5b40bea29b19f848f03da9",
       "version_major": 2,
       "version_minor": 0
      },
      "text/plain": [
       "SelectMultiple(description='Fruits:', options=('Apples', 'Oranges', 'Pears'), value=())"
      ]
     },
     "metadata": {},
     "output_type": "display_data"
    }
   ],
   "source": [
    "widgets.SelectMultiple(\n",
    "    options=['Apples', 'Oranges', 'Pears'],\n",
    "    #value=['Oranges'],\n",
    "    description='Fruits:',\n",
    "    disabled=False\n",
    ")"
   ]
  },
  {
   "cell_type": "code",
   "execution_count": 21,
   "metadata": {},
   "outputs": [
    {
     "data": {
      "application/vnd.jupyter.widget-view+json": {
       "model_id": "ad5fabc6db1948fe81d1bee2ad36e02f",
       "version_major": 2,
       "version_minor": 0
      },
      "text/plain": [
       "HBox(children=(Play(value=50, description='Press play', interval=10), IntSlider(value=0)))"
      ]
     },
     "metadata": {},
     "output_type": "display_data"
    }
   ],
   "source": [
    "play = widgets.Play(\n",
    "    interval=10,\n",
    "    value=50,\n",
    "    min=0,\n",
    "    max=100,\n",
    "    step=1,\n",
    "    description=\"Press play\",\n",
    "    disabled=False\n",
    ")\n",
    "slider = widgets.IntSlider()\n",
    "widgets.jslink((play, 'value'), (slider, 'value'))\n",
    "widgets.HBox([play, slider])"
   ]
  },
  {
   "cell_type": "code",
   "execution_count": 22,
   "metadata": {},
   "outputs": [
    {
     "data": {
      "application/vnd.jupyter.widget-view+json": {
       "model_id": "ae9d30a9e7e2410c8ed8091a3354bc9c",
       "version_major": 2,
       "version_minor": 0
      },
      "text/plain": [
       "DatePicker(value=None, description='Pick a Date')"
      ]
     },
     "metadata": {},
     "output_type": "display_data"
    }
   ],
   "source": [
    "widgets.DatePicker(\n",
    "    description='Pick a Date',\n",
    "    disabled=False\n",
    ")"
   ]
  },
  {
   "cell_type": "code",
   "execution_count": 23,
   "metadata": {},
   "outputs": [
    {
     "data": {
      "text/plain": [
       "True"
      ]
     },
     "execution_count": 23,
     "metadata": {},
     "output_type": "execute_result"
    }
   ],
   "source": [
    "#LINK TO WRITING CSV FILES\n",
    "import webbrowser                                                    #Used in order to access certain websites\n",
    "websites = 'https://docs.python.org/3/library/csv.html'\n",
    "webbrowser.open(websites)"
   ]
  }
 ],
 "metadata": {
  "kernelspec": {
   "display_name": "Python 3",
   "language": "python",
   "name": "python3"
  },
  "language_info": {
   "codemirror_mode": {
    "name": "ipython",
    "version": 3
   },
   "file_extension": ".py",
   "mimetype": "text/x-python",
   "name": "python",
   "nbconvert_exporter": "python",
   "pygments_lexer": "ipython3",
   "version": "3.6.5"
  }
 },
 "nbformat": 4,
 "nbformat_minor": 2
}
