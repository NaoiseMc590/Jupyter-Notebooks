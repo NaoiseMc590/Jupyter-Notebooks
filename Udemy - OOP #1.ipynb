{
 "cells": [
  {
   "cell_type": "code",
   "execution_count": 4,
   "metadata": {},
   "outputs": [
    {
     "name": "stdout",
     "output_type": "stream",
     "text": [
      "['Eoin', 'Max', 'David']\n"
     ]
    }
   ],
   "source": [
    "names = ['John', 'David', 'Max']\n",
    "names.append('Eoin')\n",
    "names.reverse()\n",
    "names.pop()\n",
    "\n",
    "print(names)"
   ]
  },
  {
   "cell_type": "code",
   "execution_count": 63,
   "metadata": {},
   "outputs": [
    {
     "name": "stdout",
     "output_type": "stream",
     "text": [
      "Daly is 21 and in 7\n",
      "Johnson is 30 and in 2\n"
     ]
    }
   ],
   "source": [
    "class Example():\n",
    "      \n",
    "        def __init__(self, surname, age, year):\n",
    "            self.surname = surname\n",
    "            self.age = age\n",
    "            self.year = year\n",
    "        \n",
    "        def year_increase(self):\n",
    "            self.year = self.year + 1\n",
    "        \n",
    "      \n",
    "        def get_name(Example):      #'self' = 'Example'\n",
    "            print(Example.surname + ' '  + 'is' + ' ' + Example.age + ' '  + 'and in' + ' ' + str(Example.year))   \n",
    "                                                 #' ' allows space to be printed in between surname & age\n",
    " \n",
    "Muller = Example('Daly', '21', 6)                   #Age must be a string ('21'), not integer (21)\n",
    "Muller.year_increase()\n",
    "Muller.get_name()\n",
    "\n",
    "Dan = Example('Johnson', '30', 2)                   #Year doesn't increase due to 'Dan.year_increase()' not being implemented\n",
    "Dan.get_name()"
   ]
  },
  {
   "cell_type": "code",
   "execution_count": 23,
   "metadata": {},
   "outputs": [
    {
     "name": "stdout",
     "output_type": "stream",
     "text": [
      "Computers United Ltd.\n"
     ]
    }
   ],
   "source": [
    "class Testing():\n",
    "     def get_name(self):                         #Now an object of the class 'Testing' -> 'self' represents the object\n",
    "             print(self.legal_name + ' ' + self.legal_type)\n",
    "    \n",
    "t = Testing()\n",
    "t.legal_name = 'Computers United'\n",
    "t.legal_type = 'Ltd.'\n",
    "t.get_name()"
   ]
  },
  {
   "cell_type": "code",
   "execution_count": 32,
   "metadata": {},
   "outputs": [
    {
     "name": "stdout",
     "output_type": "stream",
     "text": [
      "Daly 21\n",
      "Daly 21\n",
      "Daly 21\n",
      "Johnson 30\n",
      "Johnson 30\n",
      "Johnson 30\n",
      "Computers United Ltd.\n",
      "Computers United Ltd.\n",
      "Computers United Ltd.\n"
     ]
    }
   ],
   "source": [
    "def name_ex(o):                                     #Must be an argument given within brackets -> '(o)'\n",
    "    o.get_name()                                    #Doesn't require an argument in brackets due to '(self)' above\n",
    "    o.get_name()\n",
    "    o.get_name()\n",
    "    \n",
    "name_ex(Muller)\n",
    "name_ex(Dan)\n",
    "name_ex(t)"
   ]
  },
  {
   "cell_type": "code",
   "execution_count": 74,
   "metadata": {},
   "outputs": [
    {
     "name": "stdout",
     "output_type": "stream",
     "text": [
      "Daly is 21 and in year 9\n"
     ]
    }
   ],
   "source": [
    "#Visibility of methods & variables\n",
    "class Example():\n",
    "      \n",
    "        def __init__(self, surname, age):\n",
    "            self.surname = surname\n",
    "            self.age = age\n",
    "            self.year = 1\n",
    "        \n",
    "        def year_increase(self):\n",
    "            if self.year >= 9:\n",
    "                return\n",
    "            self.year = self.year + 1\n",
    "        \n",
    "      \n",
    "        def get_name(Example):      #'self' = 'Example'\n",
    "            print(Example.surname + ' '  + 'is' + ' ' + Example.age + ' '  + 'and in year' + ' ' + str(Example.year))   \n",
    "                                                 \n",
    " \n",
    "Muller = Example('Daly', '21')                   #Age must be a string ('21'), not integer (21)\n",
    "Muller.year_increase()\n",
    "Muller.year_increase()\n",
    "Muller.year_increase()\n",
    "Muller.year_increase()\n",
    "Muller.year_increase()\n",
    "Muller.year_increase()\n",
    "Muller.year_increase()\n",
    "Muller.year_increase()\n",
    "Muller.year_increase()\n",
    "Muller.year_increase()\n",
    "Muller.year_increase()                           #Increased year 12 times but max is 9 from above\n",
    "Muller.year_increase()\n",
    "Muller.get_name()"
   ]
  },
  {
   "cell_type": "code",
   "execution_count": 77,
   "metadata": {},
   "outputs": [
    {
     "name": "stdout",
     "output_type": "stream",
     "text": [
      "Daly is 21 and in year 150\n"
     ]
    }
   ],
   "source": [
    "#Data hiding (Encapsulation)\n",
    "class Example():\n",
    "      \n",
    "        def __init__(self, surname, age):\n",
    "            self.surname = surname\n",
    "            self.age = age\n",
    "            self._year = 1\n",
    "        \n",
    "        def year_increase(self):\n",
    "            if self._year >= 9:\n",
    "                return\n",
    "            self._year = self._year + 1\n",
    "        \n",
    "      \n",
    "        def get_name(Example):      #'self' = 'Example'\n",
    "            print(Example.surname + ' '  + 'is' + ' ' + Example.age + ' '  + 'and in year' + ' ' + str(Example._year))   \n",
    "                                                 \n",
    " \n",
    "Muller = Example('Daly', '21')                   #Age must be a string ('21'), not integer (21)\n",
    "Muller.year_increase()\n",
    "Muller._year = 150                               #Single Underscore '_' indicates NOT to change value  -> Only a signal\n",
    "Muller.get_name()"
   ]
  },
  {
   "cell_type": "code",
   "execution_count": 87,
   "metadata": {},
   "outputs": [
    {
     "name": "stdout",
     "output_type": "stream",
     "text": [
      "2\n"
     ]
    },
    {
     "ename": "AttributeError",
     "evalue": "'Example' object has no attribute '__test2'",
     "output_type": "error",
     "traceback": [
      "\u001b[1;31m---------------------------------------------------------------------------\u001b[0m",
      "\u001b[1;31mAttributeError\u001b[0m                            Traceback (most recent call last)",
      "\u001b[1;32m<ipython-input-87-38995a2cce7a>\u001b[0m in \u001b[0;36m<module>\u001b[1;34m()\u001b[0m\n\u001b[0;32m     27\u001b[0m \u001b[1;31m#print(Muller.year)\u001b[0m\u001b[1;33m\u001b[0m\u001b[1;33m\u001b[0m\u001b[0m\n\u001b[0;32m     28\u001b[0m \u001b[0mprint\u001b[0m\u001b[1;33m(\u001b[0m\u001b[0mMuller\u001b[0m\u001b[1;33m.\u001b[0m\u001b[0mget_year\u001b[0m\u001b[1;33m(\u001b[0m\u001b[1;33m)\u001b[0m\u001b[1;33m)\u001b[0m         \u001b[1;31m#Prints due to self.__year + 1 above\u001b[0m\u001b[1;33m\u001b[0m\u001b[0m\n\u001b[1;32m---> 29\u001b[1;33m \u001b[0mMuller\u001b[0m\u001b[1;33m.\u001b[0m\u001b[0m__test2\u001b[0m\u001b[1;33m(\u001b[0m\u001b[1;33m)\u001b[0m\u001b[1;33m\u001b[0m\u001b[0m\n\u001b[0m\u001b[0;32m     30\u001b[0m \u001b[0mMuller\u001b[0m\u001b[1;33m.\u001b[0m\u001b[0mget_name\u001b[0m\u001b[1;33m(\u001b[0m\u001b[1;33m)\u001b[0m                \u001b[1;31m#Expected error due to double underscore -> Can't change value\u001b[0m\u001b[1;33m\u001b[0m\u001b[0m\n",
      "\u001b[1;31mAttributeError\u001b[0m: 'Example' object has no attribute '__test2'"
     ]
    }
   ],
   "source": [
    "class Example():\n",
    "      \n",
    "        def __init__(self, surname, age):\n",
    "            self.surname = surname\n",
    "            self.age = age\n",
    "            self.__year = 1\n",
    "        \n",
    "        def year_increase(self):\n",
    "            if self.__year >= 9:\n",
    "                return\n",
    "            self.__year = self.__year + 1\n",
    "            \n",
    "        def get_year(self):\n",
    "            return self.__year\n",
    "        \n",
    "      \n",
    "        def get_name(Example):      #'self' = 'Example' -> Either one can be used\n",
    "            print(Example.surname + ' '  + 'is' + ' ' + Example.age + ' '  + 'and in year' + ' ' + str(Example.__year))\n",
    "            \n",
    "        def __test2(self):\n",
    "            print('Valid')\n",
    "                                                 \n",
    " \n",
    "Muller = Example('Daly', '21')   #Age must be a string ('21'), not integer (21)\n",
    "Muller.year_increase()\n",
    "#1Muller.__year = 150\n",
    "#2print(Muller.year)\n",
    "print(Muller.get_year())         #Prints due to self.__year + 1 above\n",
    "Muller.__test2()                 #Expected error -> Can't be accessed from outside due to double underscore\n",
    "Muller.get_name()                #Expected error due to double underscore -> Can't change value"
   ]
  }
 ],
 "metadata": {
  "kernelspec": {
   "display_name": "Python 3",
   "language": "python",
   "name": "python3"
  },
  "language_info": {
   "codemirror_mode": {
    "name": "ipython",
    "version": 3
   },
   "file_extension": ".py",
   "mimetype": "text/x-python",
   "name": "python",
   "nbconvert_exporter": "python",
   "pygments_lexer": "ipython3",
   "version": "3.6.5"
  }
 },
 "nbformat": 4,
 "nbformat_minor": 2
}
