{
 "cells": [
  {
   "cell_type": "code",
   "execution_count": 7,
   "metadata": {},
   "outputs": [
    {
     "name": "stdout",
     "output_type": "stream",
     "text": [
      "111\n"
     ]
    }
   ],
   "source": [
    "class example():\n",
    "    def __init__(self):\n",
    "        self.__entries = {}                        #'{}' indicates the creation of a dictionary\n",
    "        \n",
    "    def add(self, name, phone_number):             #defs can't be changed -> Body can to suit our needs (Privacy/Requirements)\n",
    "        self.__entries[name] = phone_number        # ^ referring to people trying to access the data\n",
    "        \n",
    "    def get(self, name):                           #Creating secure way to get info due to double underscore\n",
    "        if name in self.__entries:\n",
    "            return self.__entries[name]\n",
    "        else:\n",
    "            return None\n",
    "        \n",
    "book = example()\n",
    "book.add('Johnson', '111')\n",
    "book.add('Muller', '222')\n",
    "\n",
    "print(book.get('Johnson'))"
   ]
  },
  {
   "cell_type": "code",
   "execution_count": 24,
   "metadata": {},
   "outputs": [
    {
     "name": "stdout",
     "output_type": "stream",
     "text": [
      "Here are your desired contacts({'Johnson': '111', 'Muller': '222', 'Davis': '333'})\n",
      "3\n"
     ]
    }
   ],
   "source": [
    "class example():\n",
    "    def __init__(self):\n",
    "        self.__entries = {}                        \n",
    "        \n",
    "    def add(self, name, phone_number):             \n",
    "        self.__entries[name] = phone_number        \n",
    "    \n",
    "    def get(self, name):                        \n",
    "        if name in self.__entries:\n",
    "            return self.__entries[name]\n",
    "        else:\n",
    "            return None\n",
    "        \n",
    "    def __str__(self):                                      #'str' creates a string representation of an object (Private)\n",
    "        return 'Here are your desired contacts('+ str(self.__entries) + ')' \n",
    "\n",
    "    \n",
    "    def __repr__(self):                                     #'repr' tells it what to do (Private) -> Called when no 'str' method\n",
    "        return 'Here are your contacts('+ str(self.__entries) + ')'\n",
    "    \n",
    "    def __len__(self):\n",
    "        return len(self.__entries)\n",
    "        \n",
    "book = example()\n",
    "book.add('Johnson', '111')\n",
    "book.add('Muller', '222')\n",
    "book.add('Davis', '333')\n",
    "\n",
    "print(book)                               #'str' is being called\n",
    "print(len(book))                          #'len' is being called"
   ]
  },
  {
   "cell_type": "code",
   "execution_count": 20,
   "metadata": {},
   "outputs": [
    {
     "data": {
      "text/plain": [
       "Here are your contacts({'Johnson': '111', 'Muller': '222'})"
      ]
     },
     "execution_count": 20,
     "metadata": {},
     "output_type": "execute_result"
    }
   ],
   "source": [
    "book                                                        #'repr' is being called "
   ]
  },
  {
   "cell_type": "code",
   "execution_count": 72,
   "metadata": {},
   "outputs": [
    {
     "name": "stdout",
     "output_type": "stream",
     "text": [
      "Miller is 22\n",
      "Johnson is 25 (Driller)\n",
      "Brewer is 30\n"
     ]
    }
   ],
   "source": [
    "#Inheritance\n",
    "class group():\n",
    "    def __init__(self, surname, age):\n",
    "        self.surname = surname\n",
    "        self.age = age\n",
    "        \n",
    "                                                            #'Superclass'\n",
    "        def names(self):\n",
    "            return self.surname + ' ' + 'is' + ' ' + self.age\n",
    "    \n",
    "class group2(group): \n",
    "    \n",
    "    def __init__(self, surname, age, job):                  #Surname & age are already present\n",
    "        super().__init__(surname, age)                      #'super().__init__...' copies def names(self) from above -> Quicker\n",
    "        self.job = job\n",
    "    \n",
    "    def names(self):                                        #Overrides method ('def names(self)') from above\n",
    "        return super().names() + ' (' + self.job + ')'\n",
    "         \n",
    "#Polymorphism\n",
    "combo = [\n",
    "    group('Miller', '22'),\n",
    "    group2('Johnson', '25', 'Driller'),                     #No.of arguments must match no. of arguments in original group above\n",
    "    group('Brewer', '30')                                    #Can't insert job as job is not an argument in 'group' above\n",
    "]\n",
    "\n",
    "for Group in combo:\n",
    "    print(Group.names())"
   ]
  },
  {
   "cell_type": "code",
   "execution_count": 73,
   "metadata": {},
   "outputs": [
    {
     "name": "stdout",
     "output_type": "stream",
     "text": [
      "John is 21\n",
      "John is 21 (engineer)\n"
     ]
    }
   ],
   "source": [
    "groups = group('John', '21')\n",
    "print(groups.names())\n",
    "group3 = group2('John', '21', 'engineer')\n",
    "print(group3.names())"
   ]
  }
 ],
 "metadata": {
  "kernelspec": {
   "display_name": "Python 3",
   "language": "python",
   "name": "python3"
  },
  "language_info": {
   "codemirror_mode": {
    "name": "ipython",
    "version": 3
   },
   "file_extension": ".py",
   "mimetype": "text/x-python",
   "name": "python",
   "nbconvert_exporter": "python",
   "pygments_lexer": "ipython3",
   "version": "3.6.5"
  }
 },
 "nbformat": 4,
 "nbformat_minor": 2
}
