{
 "cells": [
  {
   "cell_type": "code",
   "execution_count": 4,
   "metadata": {},
   "outputs": [
    {
     "name": "stdout",
     "output_type": "stream",
     "text": [
      "5\n",
      "15 20 25\n",
      "\n",
      "\n",
      "100\n",
      "200\n",
      "300\n",
      "400\n",
      "500 600 700 800 900 1000\n"
     ]
    }
   ],
   "source": [
    "#Function arguments - *args\n",
    "def example(test, test2, *args):\n",
    "    print(test)                                             #Prints 1st item only (index = 0)\n",
    "    print(*args)                                            #Prints all remaining items (index = 1,2,3,4)\n",
    "\n",
    "example(5, 10, 15, 20, 25)\n",
    "\n",
    "print('\\n')\n",
    "\n",
    "def example2(test10, test20, test40, test80, *args):\n",
    "    print(test10)                                            #Prints 1st item only (index = 0)\n",
    "    print(test20)                                            #Prints 2nd item only (index = 1)\n",
    "    print(test40)                                            #Prints 3rd item only (index = 2)\n",
    "    print(test80)                                            #Prints 4th item only (index = 3)\n",
    "    print(*args)                                             #Prints all remaining items (index = 4,5,6,7,8,9)\n",
    "    \n",
    "example2(100, 200, 300, 400, 500, 600, 700, 800, 900, 1000)"
   ]
  },
  {
   "cell_type": "code",
   "execution_count": 6,
   "metadata": {},
   "outputs": [
    {
     "name": "stdout",
     "output_type": "stream",
     "text": [
      "Hello!\n",
      "Goodbye!\n"
     ]
    }
   ],
   "source": [
    "#Default values & named parameters\n",
    "def functions(x, y, z='Hello!'):    #Default value = [z = 'Hello!'] -> Must come after named parameters without default values\n",
    "    print(z)\n",
    "    \n",
    "functions(5, 10)\n",
    "functions(15, 20, 'Goodbye!')"
   ]
  },
  {
   "cell_type": "code",
   "execution_count": 10,
   "metadata": {},
   "outputs": [
    {
     "name": "stdout",
     "output_type": "stream",
     "text": [
      "{'a': 35, 'b': 40}\n"
     ]
    }
   ],
   "source": [
    "#**kwargs\n",
    "def testing(x, y=10, *args, **kwargs):        #'**kwargs' handles named arguments not defined in advance\n",
    "    print(kwargs)\n",
    "    \n",
    "testing(5, 10, 15, 20, 25, 30, a=35, b=40)   #Returns a dictionary -> Keys = argument names, values = argument values"
   ]
  },
  {
   "cell_type": "code",
   "execution_count": 19,
   "metadata": {},
   "outputs": [
    {
     "name": "stdout",
     "output_type": "stream",
     "text": [
      "2\n",
      "4\n",
      "6\n",
      "8\n",
      "\n",
      "\n",
      "10\n",
      "15 20 25\n",
      "30\n",
      "35\n",
      "40\n"
     ]
    }
   ],
   "source": [
    "#Tuple unpackaging\n",
    "set_of_numbers = (2, 4, 6, 8)             \n",
    "a, b , c, d = set_of_numbers                    #Assigning each item in a tuple a variable\n",
    "\n",
    "print(a)\n",
    "print(b)\n",
    "print(c)\n",
    "print(d)\n",
    "\n",
    "print('\\n')\n",
    "\n",
    "set_of_numbers_2 = (10, 15, 20, 25, 30, 35, 40)\n",
    "a, *b, c, d, e = set_of_numbers_2               #'*b' takes all values left over from other variables and assigns them to '*b'\n",
    "\n",
    "print(a)\n",
    "print(*b)\n",
    "print(c)\n",
    "print(d)\n",
    "print(e)"
   ]
  },
  {
   "cell_type": "code",
   "execution_count": 24,
   "metadata": {},
   "outputs": [
    {
     "name": "stdout",
     "output_type": "stream",
     "text": [
      "5\n",
      "\n",
      "\n",
      "1000\n",
      "\n",
      "\n",
      "Logout\n"
     ]
    }
   ],
   "source": [
    "#Ternary operator (Conditional expressions) ('Ternary' = three arguments)\n",
    "x = 20\n",
    "y = 5 if x > 15 else 40\n",
    "print(y)\n",
    "\n",
    "print('\\n')\n",
    "\n",
    "a = 500\n",
    "b = 200 if a < 250 else 1000\n",
    "print(b)\n",
    "\n",
    "print('\\n')\n",
    "\n",
    "status = 1\n",
    "msg = 'Logout' if status == 1 else 'LogIn'\n",
    "print(msg)"
   ]
  },
  {
   "cell_type": "code",
   "execution_count": 28,
   "metadata": {},
   "outputs": [
    {
     "name": "stdout",
     "output_type": "stream",
     "text": [
      "Invalid\n"
     ]
    }
   ],
   "source": [
    "#Else statements\n",
    "for i in range(100):\n",
    "    if i == 150:\n",
    "        break\n",
    "else:\n",
    "    print('Invalid')              #Printed as normal due to 'if' statement\n",
    "    \n",
    "for i in range(100):\n",
    "    if i == 5:\n",
    "        break                     #Loop exits due to the break -> 2nd else statement is not executed\n",
    "else:\n",
    "    print('Invalid!')"
   ]
  },
  {
   "cell_type": "code",
   "execution_count": 30,
   "metadata": {},
   "outputs": [
    {
     "name": "stdout",
     "output_type": "stream",
     "text": [
      "10\n",
      "Valid!\n",
      "Error!\n"
     ]
    }
   ],
   "source": [
    "try:\n",
    "    print(10)\n",
    "except ZeroDivisionError:\n",
    "        print('Error!')\n",
    "else:\n",
    "        print('Valid!')\n",
    "        \n",
    "try:\n",
    "    print(10/0)\n",
    "except ZeroDivisionError:\n",
    "        print('Error!')\n",
    "else:\n",
    "        print('Correct!')"
   ]
  },
  {
   "cell_type": "code",
   "execution_count": 32,
   "metadata": {},
   "outputs": [
    {
     "name": "stdout",
     "output_type": "stream",
     "text": [
      "This is a script!\n"
     ]
    }
   ],
   "source": [
    "#__main__                         #Used to make a file that can be both imported as a module and run as a script\n",
    "def functions_1():\n",
    "    print('This is a module!')\n",
    "    \n",
    "if __name__ == '__main__':        #Ensures it won't be run if the file is imported\n",
    "    print('This is a script!')"
   ]
  }
 ],
 "metadata": {
  "kernelspec": {
   "display_name": "Python 3",
   "language": "python",
   "name": "python3"
  },
  "language_info": {
   "codemirror_mode": {
    "name": "ipython",
    "version": 3
   },
   "file_extension": ".py",
   "mimetype": "text/x-python",
   "name": "python",
   "nbconvert_exporter": "python",
   "pygments_lexer": "ipython3",
   "version": "3.6.5"
  }
 },
 "nbformat": 4,
 "nbformat_minor": 2
}
