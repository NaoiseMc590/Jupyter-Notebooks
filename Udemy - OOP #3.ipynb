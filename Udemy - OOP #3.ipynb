{
 "cells": [
  {
   "cell_type": "code",
   "execution_count": 14,
   "metadata": {},
   "outputs": [
    {
     "name": "stdout",
     "output_type": "stream",
     "text": [
      "<class 'int'>\n",
      "<class 'float'>\n",
      "22.5\n",
      "5\n",
      "62.5\n",
      "7.5\n"
     ]
    }
   ],
   "source": [
    "x = 15\n",
    "print(type(x))\n",
    "\n",
    "v = 12.5\n",
    "print(type(v))\n",
    "\n",
    "\n",
    "print(v.__add__(10))\n",
    "print(x.__sub__(10))\n",
    "print(v.__mul__(5))\n",
    "print(x.__truediv__(2))"
   ]
  },
  {
   "cell_type": "code",
   "execution_count": 7,
   "metadata": {},
   "outputs": [
    {
     "data": {
      "text/plain": [
       "20"
      ]
     },
     "execution_count": 7,
     "metadata": {},
     "output_type": "execute_result"
    }
   ],
   "source": [
    "10 + 10"
   ]
  },
  {
   "cell_type": "code",
   "execution_count": 15,
   "metadata": {},
   "outputs": [
    {
     "name": "stdout",
     "output_type": "stream",
     "text": [
      "<class 'str'>\n"
     ]
    }
   ],
   "source": [
    "b = 'Hello everybody!'\n",
    "print(type(b))"
   ]
  },
  {
   "cell_type": "code",
   "execution_count": 20,
   "metadata": {},
   "outputs": [
    {
     "name": "stdout",
     "output_type": "stream",
     "text": [
      "16\n",
      "16\n"
     ]
    }
   ],
   "source": [
    "print(len(b))\n",
    "print(b.__len__())"
   ]
  },
  {
   "cell_type": "code",
   "execution_count": 25,
   "metadata": {},
   "outputs": [
    {
     "data": {
      "text/plain": [
       "10"
      ]
     },
     "execution_count": 25,
     "metadata": {},
     "output_type": "execute_result"
    }
   ],
   "source": [
    "class b:\n",
    "    def __len__(self):\n",
    "        return 10\n",
    "    \n",
    "instance = b()\n",
    "len(instance)"
   ]
  },
  {
   "cell_type": "code",
   "execution_count": null,
   "metadata": {},
   "outputs": [],
   "source": [
    "#PascalCase = HelloWorld    -> Used for classes\n",
    "#sneak_case = example_number_one   -> Used for functions, methods & variable names (at most three words)"
   ]
  },
  {
   "cell_type": "code",
   "execution_count": 40,
   "metadata": {},
   "outputs": [
    {
     "name": "stdout",
     "output_type": "stream",
     "text": [
      "Expensive\n",
      "Cheap\n",
      "Cheap\n"
     ]
    }
   ],
   "source": [
    "#Static methods/variables\n",
    "class Example_car:\n",
    "    price =  'Expensive'\n",
    "    \n",
    "c = Example_car\n",
    "print(c.price)\n",
    "\n",
    "c.price = 'Cheap'\n",
    "print(c.price)\n",
    "\n",
    "c2 = Example_car\n",
    "print(c2.price)"
   ]
  },
  {
   "cell_type": "code",
   "execution_count": 39,
   "metadata": {},
   "outputs": [
    {
     "name": "stdout",
     "output_type": "stream",
     "text": [
      "Red\n",
      "Expensive\n"
     ]
    }
   ],
   "source": [
    "class test:\n",
    "    color = 'Red'\n",
    "    def __init__(self, price):\n",
    "        self.price = 'Expensive'\n",
    "        \n",
    "d = test('Blue')\n",
    "print(d.color)\n",
    "print(d.price)"
   ]
  }
 ],
 "metadata": {
  "kernelspec": {
   "display_name": "Python 3",
   "language": "python",
   "name": "python3"
  },
  "language_info": {
   "codemirror_mode": {
    "name": "ipython",
    "version": 3
   },
   "file_extension": ".py",
   "mimetype": "text/x-python",
   "name": "python",
   "nbconvert_exporter": "python",
   "pygments_lexer": "ipython3",
   "version": "3.6.5"
  }
 },
 "nbformat": 4,
 "nbformat_minor": 2
}
