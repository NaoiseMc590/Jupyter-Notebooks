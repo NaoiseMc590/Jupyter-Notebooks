{
 "cells": [
  {
   "cell_type": "code",
   "execution_count": 2,
   "metadata": {},
   "outputs": [
    {
     "name": "stdout",
     "output_type": "stream",
     "text": [
      "['Product', 'Choice']\n",
      "['Key', 'Choice', 'Product']\n"
     ]
    }
   ],
   "source": [
    "#1 -> List = ['First', 'Second', 'Third']\n",
    "#2 -> Dictionary = {'Item1': 10. 'Item2': 20, 'Item3': 30}\n",
    "#3 -> Tuple = [2:4, 5:10]                                                   IMMUTABLE (CAN NEVER BE CHANGED/ALTERED)\n",
    "\n",
    "#4 -> Set\n",
    "list = ['Product', 'Choice']\n",
    "print(list)\n",
    "list.append('Key')                            #Use 'append' with lists\n",
    "list.reverse()\n",
    "print(list)"
   ]
  },
  {
   "cell_type": "code",
   "execution_count": 3,
   "metadata": {},
   "outputs": [
    {
     "name": "stdout",
     "output_type": "stream",
     "text": [
      "{'Ball', 'Car', 'Truck', 'Road'}\n",
      "Valid\n"
     ]
    }
   ],
   "source": [
    "test = {'Car', 'Ball', 'Truck'}\n",
    "test.add('Road')                             #Use 'add' with sets\n",
    "print(test)\n",
    "if 'Truck' in test:\n",
    "    print('Valid')"
   ]
  },
  {
   "cell_type": "code",
   "execution_count": 1,
   "metadata": {},
   "outputs": [
    {
     "name": "stdout",
     "output_type": "stream",
     "text": [
      "{'Hello', 'World', 'Mars'}\n",
      "3\n"
     ]
    }
   ],
   "source": [
    "text = \"Hello World Hello Mars Hello World\"\n",
    "words = set()\n",
    "for word in text.split(\" \"):\n",
    "    words.add(word)\n",
    "print(words)                                         #SETS CONTAIN A VALUE ONLY ONCE\n",
    "print(len(words))"
   ]
  },
  {
   "cell_type": "code",
   "execution_count": null,
   "metadata": {},
   "outputs": [],
   "source": [
    "#Exercise (sets) solution\n",
    "import csv\n",
    "\n",
    "names = set()\n",
    "\n",
    "with open('../data/names.csv', newline=' ') as csvfile:\n",
    "    namereader = csv.reader(csvfile, delimiter=', ', quotechar='\"')\n",
    "    counter = 0\n",
    "    for row in namereader:                                       #Go through line by line\n",
    "        if counter != 0:\n",
    "            names.add(row[1])                                    #Skipping the 1st row (index = 0) as we require name only\n",
    "        counter = counter +1\n",
    "\n",
    "print(len(names))                                                #Length of the set 'names'\n",
    "\n",
    "#ANSWER = 30274        "
   ]
  },
  {
   "cell_type": "code",
   "execution_count": 15,
   "metadata": {},
   "outputs": [
    {
     "name": "stdout",
     "output_type": "stream",
     "text": [
      "<queue.Queue object at 0x0000013CF15CA320>\n",
      "\n",
      "\n",
      "This\n",
      "is\n",
      "a\n",
      "test\n"
     ]
    }
   ],
   "source": [
    "#5 -> Queue\n",
    "import queue\n",
    "q = queue.Queue()\n",
    "\n",
    "q.put('This')\n",
    "q.put('is')\n",
    "q.put('a')\n",
    "q.put('test')\n",
    "q.put('of')\n",
    "q.put('data structures!')\n",
    "      \n",
    "print(q)\n",
    "print('\\n')\n",
    "print(q.get())\n",
    "print(q.get())\n",
    "print(q.get())\n",
    "print(q.get())                              #Strings entered above in 'q.put()' disappear once called in order through 'q.get()'"
   ]
  },
  {
   "cell_type": "code",
   "execution_count": 16,
   "metadata": {},
   "outputs": [
    {
     "name": "stdout",
     "output_type": "stream",
     "text": [
      "of\n",
      "data structures!\n"
     ]
    }
   ],
   "source": [
    "while not q.empty():\n",
    "    element = q.get()\n",
    "    print(element)                         #Calls remaining strings not called above"
   ]
  },
  {
   "cell_type": "code",
   "execution_count": 23,
   "metadata": {},
   "outputs": [
    {
     "name": "stdout",
     "output_type": "stream",
     "text": [
      "(5, 'Yes!')\n",
      "(10, 'Hello')\n",
      "(15, 'Ok')\n"
     ]
    }
   ],
   "source": [
    "#Priority queue (extension of 'queue')\n",
    "\n",
    "q2 = queue.PriorityQueue()\n",
    "\n",
    "q2.put((10, 'Hello'))\n",
    "q2.put((15, 'Ok'))\n",
    "q2.put((5, 'Yes!'))\n",
    "\n",
    "print(q2.get())                        \n",
    "print(q2.get())                         \n",
    "print(q2.get())                         "
   ]
  },
  {
   "cell_type": "code",
   "execution_count": 22,
   "metadata": {},
   "outputs": [
    {
     "name": "stdout",
     "output_type": "stream",
     "text": [
      "(3, 'C')\n",
      "(6, 'B')\n",
      "(6, 'D')\n",
      "(7, 'A')\n"
     ]
    }
   ],
   "source": [
    "text = 'A A A A A A A B B B B B B C C C D D D D D D'\n",
    "\n",
    "d = {}\n",
    "for word in text.split(' '):\n",
    "    if word in d:\n",
    "        d[word] = d[word] + 1\n",
    "    else:\n",
    "        d[word] = 1\n",
    "        \n",
    "pq = queue.PriorityQueue()\n",
    "\n",
    "for word, number in d.items():\n",
    "    pq.put((number, word))                              #Can insert '-' before 'number' to go from most frequent to least fequent\n",
    "    \n",
    "print(pq.get())\n",
    "print(pq.get())\n",
    "print(pq.get())\n",
    "print(pq.get())"
   ]
  }
 ],
 "metadata": {
  "kernelspec": {
   "display_name": "Python 3",
   "language": "python",
   "name": "python3"
  },
  "language_info": {
   "codemirror_mode": {
    "name": "ipython",
    "version": 3
   },
   "file_extension": ".py",
   "mimetype": "text/x-python",
   "name": "python",
   "nbconvert_exporter": "python",
   "pygments_lexer": "ipython3",
   "version": "3.6.5"
  }
 },
 "nbformat": 4,
 "nbformat_minor": 2
}
