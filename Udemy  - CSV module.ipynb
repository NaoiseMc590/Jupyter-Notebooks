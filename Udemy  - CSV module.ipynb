{
 "cells": [
  {
   "cell_type": "code",
   "execution_count": 1,
   "metadata": {},
   "outputs": [],
   "source": [
    "import csv"
   ]
  },
  {
   "cell_type": "code",
   "execution_count": 6,
   "metadata": {},
   "outputs": [
    {
     "name": "stdout",
     "output_type": "stream",
     "text": [
      "['Name', 'PhoneNumber', 'Country']\n",
      "['Mustermann', '+123456789', 'Holland']\n",
      "['Bakker', '+987654321', 'Germany']\n"
     ]
    }
   ],
   "source": [
    "#Basic method  -> Not used for more complex files\n",
    "with open('file.csv', newline='') as file:\n",
    "    csv_file = csv.reader(file, delimiter=',')        #'delimiter' indicates parameter to parse data in the file -> commas\n",
    "    for line in csv_file:                             #'quotechar' is an additional parameter\n",
    "        print(line)     "
   ]
  }
 ],
 "metadata": {
  "kernelspec": {
   "display_name": "Python 3",
   "language": "python",
   "name": "python3"
  },
  "language_info": {
   "codemirror_mode": {
    "name": "ipython",
    "version": 3
   },
   "file_extension": ".py",
   "mimetype": "text/x-python",
   "name": "python",
   "nbconvert_exporter": "python",
   "pygments_lexer": "ipython3",
   "version": "3.6.5"
  }
 },
 "nbformat": 4,
 "nbformat_minor": 2
}
