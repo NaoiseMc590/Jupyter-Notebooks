{
 "cells": [
  {
   "cell_type": "code",
   "execution_count": 2,
   "metadata": {},
   "outputs": [
    {
     "name": "stdout",
     "output_type": "stream",
     "text": [
      "{'Berlin': 'BER', 'Helsinki': 'HEL', 'Dublin': 'DUB'}\n"
     ]
    }
   ],
   "source": [
    "dictionary = {'Berlin': 'BER', 'Helsinki': 'HEL', 'Dublin': 'DUB'}\n",
    "print(dictionary)"
   ]
  },
  {
   "cell_type": "code",
   "execution_count": 6,
   "metadata": {},
   "outputs": [
    {
     "name": "stdout",
     "output_type": "stream",
     "text": [
      "DUB\n",
      "BER\n",
      "{'Berlin': 'BER', 'Helsinki': 'HEL', 'Dublin': 'DUB', 'London': 'LDN'}\n"
     ]
    }
   ],
   "source": [
    "print(dictionary['Dublin'])\n",
    "print(dictionary['Berlin'])\n",
    "dictionary['London'] = 'LDN'\n",
    "print(dictionary)"
   ]
  },
  {
   "cell_type": "code",
   "execution_count": 7,
   "metadata": {},
   "outputs": [],
   "source": [
    "del dictionary['Dublin']"
   ]
  },
  {
   "cell_type": "code",
   "execution_count": 8,
   "metadata": {},
   "outputs": [
    {
     "name": "stdout",
     "output_type": "stream",
     "text": [
      "{'Berlin': 'BER', 'Helsinki': 'HEL', 'London': 'LDN'}\n"
     ]
    }
   ],
   "source": [
    "print(dictionary)"
   ]
  },
  {
   "cell_type": "code",
   "execution_count": 12,
   "metadata": {},
   "outputs": [
    {
     "name": "stdout",
     "output_type": "stream",
     "text": [
      "Correct!\n",
      "Invalid!\n"
     ]
    }
   ],
   "source": [
    "if 'Berlin' in dictionary:\n",
    "    print('Correct!')\n",
    "\n",
    "if 'Dublin' in dictionary:\n",
    "    print('Valid!')\n",
    "else:\n",
    "    print('Invalid!')"
   ]
  },
  {
   "cell_type": "code",
   "execution_count": 21,
   "metadata": {},
   "outputs": [
    {
     "name": "stdout",
     "output_type": "stream",
     "text": [
      "BER\n"
     ]
    },
    {
     "ename": "KeyError",
     "evalue": "0",
     "output_type": "error",
     "traceback": [
      "\u001b[1;31m---------------------------------------------------------------------------\u001b[0m",
      "\u001b[1;31mKeyError\u001b[0m                                  Traceback (most recent call last)",
      "\u001b[1;32m<ipython-input-21-7f55a6704690>\u001b[0m in \u001b[0;36m<module>\u001b[1;34m()\u001b[0m\n\u001b[0;32m      1\u001b[0m \u001b[0mprint\u001b[0m\u001b[1;33m(\u001b[0m\u001b[0mdictionary\u001b[0m\u001b[1;33m.\u001b[0m\u001b[0mget\u001b[0m\u001b[1;33m(\u001b[0m\u001b[1;34m'Berlin'\u001b[0m\u001b[1;33m)\u001b[0m\u001b[1;33m)\u001b[0m\u001b[1;33m\u001b[0m\u001b[0m\n\u001b[1;32m----> 2\u001b[1;33m \u001b[0mprint\u001b[0m\u001b[1;33m(\u001b[0m\u001b[0mdictionary\u001b[0m\u001b[1;33m[\u001b[0m\u001b[1;36m0\u001b[0m\u001b[1;33m]\u001b[0m\u001b[1;33m)\u001b[0m\u001b[1;33m\u001b[0m\u001b[0m\n\u001b[0m",
      "\u001b[1;31mKeyError\u001b[0m: 0"
     ]
    }
   ],
   "source": [
    "print(dictionary.get('Berlin'))\n",
    "print(dictionary[0])                                    #Expected Error -> Indexing is not compatible with dictionaries"
   ]
  },
  {
   "cell_type": "code",
   "execution_count": 23,
   "metadata": {},
   "outputs": [
    {
     "name": "stdout",
     "output_type": "stream",
     "text": [
      "['John David', 55]\n"
     ]
    }
   ],
   "source": [
    "#Tuples are 'immutable' -> Can't be changed\n",
    "name =  ['John John', 60]\n",
    "\n",
    "def test(x):                                   #Using functions make tuples mutable\n",
    "    x[1] = 55\n",
    "    x[0] = 'John David'\n",
    "    \n",
    "test(name)\n",
    "\n",
    "print(name)"
   ]
  },
  {
   "cell_type": "code",
   "execution_count": 29,
   "metadata": {},
   "outputs": [
    {
     "name": "stdout",
     "output_type": "stream",
     "text": [
      "Max Max\n",
      "20\n",
      "John John\n",
      "21\n",
      "David David\n",
      "25\n"
     ]
    }
   ],
   "source": [
    "names1 = [('Max Max', 20),\n",
    "         ('John John', 21),\n",
    "         ('David David', 25)\n",
    "        ]\n",
    "\n",
    "for names, ages in names1:\n",
    "    print(names)\n",
    "    print(ages)"
   ]
  },
  {
   "cell_type": "code",
   "execution_count": 35,
   "metadata": {},
   "outputs": [
    {
     "name": "stdout",
     "output_type": "stream",
     "text": [
      "Berlin\n",
      "BER\n",
      "Paris\n",
      "PRS\n",
      "Dallas\n",
      "DLS\n",
      "Phoenix\n",
      "PHX\n",
      "dict_items([('Berlin', 'BER'), ('Paris', 'PRS'), ('Dallas', 'DLS'), ('Phoenix', 'PHX')])\n"
     ]
    }
   ],
   "source": [
    "#Calling tuples from a dicti0nary\n",
    "d = {'Berlin': 'BER', 'Paris': 'PRS', 'Dallas': 'DLS', 'Phoenix': 'PHX'}\n",
    "for key in d:\n",
    "    value = d[key]\n",
    "    print(key)\n",
    "    print(value)\n",
    "    \n",
    "print(d.items())"
   ]
  },
  {
   "cell_type": "code",
   "execution_count": 36,
   "metadata": {},
   "outputs": [
    {
     "name": "stdout",
     "output_type": "stream",
     "text": [
      "Berlin:BER\n",
      "Paris:PRS\n",
      "Dallas:DLS\n",
      "Phoenix:PHX\n"
     ]
    }
   ],
   "source": [
    "for key, value in d.items():\n",
    "    print(key + ':' + value)"
   ]
  }
 ],
 "metadata": {
  "kernelspec": {
   "display_name": "Python 3",
   "language": "python",
   "name": "python3"
  },
  "language_info": {
   "codemirror_mode": {
    "name": "ipython",
    "version": 3
   },
   "file_extension": ".py",
   "mimetype": "text/x-python",
   "name": "python",
   "nbconvert_exporter": "python",
   "pygments_lexer": "ipython3",
   "version": "3.6.5"
  }
 },
 "nbformat": 4,
 "nbformat_minor": 2
}
