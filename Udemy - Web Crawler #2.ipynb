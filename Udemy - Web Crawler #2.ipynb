{
 "cells": [
  {
   "cell_type": "code",
   "execution_count": 60,
   "metadata": {},
   "outputs": [],
   "source": [
    "import requests\n",
    "r = requests.get('http://python.beispiel.programmierenlernen.io/index.php')"
   ]
  },
  {
   "cell_type": "code",
   "execution_count": 61,
   "metadata": {},
   "outputs": [],
   "source": [
    "from bs4 import BeautifulSoup\n",
    "from urllib.parse import urljoin"
   ]
  },
  {
   "cell_type": "code",
   "execution_count": 62,
   "metadata": {},
   "outputs": [],
   "source": [
    "doc = BeautifulSoup(r.text, 'html.parser')"
   ]
  },
  {
   "cell_type": "code",
   "execution_count": 63,
   "metadata": {},
   "outputs": [
    {
     "name": "stdout",
     "output_type": "stream",
     "text": [
      "http://python.beispiel.programmierenlernen.io/img/1.jpg\n"
     ]
    }
   ],
   "source": [
    "url = 'http://python.beispiel.programmierenlernen.io/index.php'\n",
    "joined = (urljoin(url, './img/1.jpg'))\n",
    "print(joined)"
   ]
  },
  {
   "cell_type": "code",
   "execution_count": 7,
   "metadata": {},
   "outputs": [
    {
     "data": {
      "text/plain": [
       "[<div class=\"card\">\n",
       " <div class=\"card-block\">\n",
       " <a href=\"./img/1.jpg\" target=\"_blank\">\n",
       " <img alt=\"Bild 1\" class=\"img-responsive float-right\" src=\"./img/1.jpg\" style=\"max-height: 100px;max-width:110px;margin-left:15px;\"/>\n",
       " </a>\n",
       " <h4 class=\"card-title\">\n",
       " <span class=\"emoji\">😩</span>\n",
       " <span>Polarised modular conglomeration</span>\n",
       " </h4>\n",
       " <p class=\"card-text\">Optio numquam ut accusantium laborum unde assumenda. Ea et totam asperiores fugiat voluptatem vitae. Et provident nam et mollitia.</p>\n",
       " </div>\n",
       " </div>, <div class=\"card\">\n",
       " <div class=\"card-block\">\n",
       " <a href=\"./img/2.jpg\" target=\"_blank\">\n",
       " <img alt=\"Bild 2\" class=\"img-responsive float-right\" src=\"./img/2.jpg\" style=\"max-height: 100px;max-width:110px;margin-left:15px;\"/>\n",
       " </a>\n",
       " <h4 class=\"card-title\">\n",
       " <span class=\"emoji\">😐</span>\n",
       " <span>Cross-group contextually-based middleware</span>\n",
       " </h4>\n",
       " <p class=\"card-text\">Deleniti atque autem et commodi cupiditate cupiditate. Fuga illum quas aliquam velit. Labore dolor fugit quia id odio nam.</p>\n",
       " </div>\n",
       " </div>, <div class=\"card\">\n",
       " <div class=\"card-block\">\n",
       " <a href=\"./img/3.jpg\" target=\"_blank\">\n",
       " <img alt=\"Bild 3\" class=\"img-responsive float-right\" src=\"./img/3.jpg\" style=\"max-height: 100px;max-width:110px;margin-left:15px;\"/>\n",
       " </a>\n",
       " <h4 class=\"card-title\">\n",
       " <span class=\"emoji\">😌</span>\n",
       " <span>De-engineered encompassing structure</span>\n",
       " </h4>\n",
       " <p class=\"card-text\">Assumenda tempora inventore harum cumque voluptatibus sit et. Et omnis et dolore quod voluptas sit a.</p>\n",
       " </div>\n",
       " </div>, <div class=\"card\">\n",
       " <div class=\"card-block\">\n",
       " <a href=\"./img/4.jpg\" target=\"_blank\">\n",
       " <img alt=\"Bild 4\" class=\"img-responsive float-right\" src=\"./img/4.jpg\" style=\"max-height: 100px;max-width:110px;margin-left:15px;\"/>\n",
       " </a>\n",
       " <h4 class=\"card-title\">\n",
       " <span class=\"emoji\">😚</span>\n",
       " <span>Fully-configurable multi-tasking interface</span>\n",
       " </h4>\n",
       " <p class=\"card-text\">Cumque unde officia autem quia at fugit. Sint iure veritatis culpa aut provident aliquam in. Eos eum accusantium quia vel dignissimos nesciunt expedita. Rem aut accusantium et tempore.</p>\n",
       " </div>\n",
       " </div>, <div class=\"card\">\n",
       " <div class=\"card-block\">\n",
       " <a href=\"./img/5.jpg\" target=\"_blank\">\n",
       " <img alt=\"Bild 5\" class=\"img-responsive float-right\" src=\"./img/5.jpg\" style=\"max-height: 100px;max-width:110px;margin-left:15px;\"/>\n",
       " </a>\n",
       " <h4 class=\"card-title\">\n",
       " <span class=\"emoji\">😠</span>\n",
       " <span>Versatile eco-centric core</span>\n",
       " </h4>\n",
       " <p class=\"card-text\">Delectus distinctio quis omnis ut commodi sed. Beatae officia doloribus consequatur dolore. Consectetur impedit quia voluptas et ut. Incidunt rem mollitia fugiat quia corporis quo. Quod possimus ut et neque deserunt.</p>\n",
       " </div>\n",
       " </div>, <div class=\"card\">\n",
       " <div class=\"card-block\">\n",
       " <a href=\"./img/6.jpg\" target=\"_blank\">\n",
       " <img alt=\"Bild 6\" class=\"img-responsive float-right\" src=\"./img/6.jpg\" style=\"max-height: 100px;max-width:110px;margin-left:15px;\"/>\n",
       " </a>\n",
       " <h4 class=\"card-title\">\n",
       " <span class=\"emoji\">😮</span>\n",
       " <span>Optional maximized utilisation</span>\n",
       " </h4>\n",
       " <p class=\"card-text\">Consequatur sit deleniti sunt aut ullam eos. Vel ex ut sunt velit provident corporis consequatur. Ea est dolorum ut atque unde. Quasi itaque nihil pariatur.</p>\n",
       " </div>\n",
       " </div>, <div class=\"card\">\n",
       " <div class=\"card-block\">\n",
       " <a href=\"./img/7.jpg\" target=\"_blank\">\n",
       " <img alt=\"Bild 7\" class=\"img-responsive float-right\" src=\"./img/7.jpg\" style=\"max-height: 100px;max-width:110px;margin-left:15px;\"/>\n",
       " </a>\n",
       " <h4 class=\"card-title\">\n",
       " <span class=\"emoji\">😢</span>\n",
       " <span>Open-architected secondary product</span>\n",
       " </h4>\n",
       " <p class=\"card-text\">Reiciendis dolor quisquam tempora in. Totam ut distinctio vero. Ullam maiores dolor sunt voluptas.</p>\n",
       " </div>\n",
       " </div>]"
      ]
     },
     "execution_count": 7,
     "metadata": {},
     "output_type": "execute_result"
    }
   ],
   "source": [
    "doc.select('.card')"
   ]
  },
  {
   "cell_type": "code",
   "execution_count": 64,
   "metadata": {},
   "outputs": [
    {
     "data": {
      "text/plain": [
       "[<span class=\"emoji\">😩</span>,\n",
       " <span class=\"emoji\">😐</span>,\n",
       " <span class=\"emoji\">😌</span>,\n",
       " <span class=\"emoji\">😚</span>,\n",
       " <span class=\"emoji\">😠</span>,\n",
       " <span class=\"emoji\">😮</span>,\n",
       " <span class=\"emoji\">😢</span>]"
      ]
     },
     "execution_count": 64,
     "metadata": {},
     "output_type": "execute_result"
    }
   ],
   "source": [
    "doc.select('.emoji')"
   ]
  },
  {
   "cell_type": "code",
   "execution_count": 70,
   "metadata": {},
   "outputs": [],
   "source": [
    "class CrawledArticle():\n",
    "    def __init__(self, title, emoji, content, image):\n",
    "        self.title = title\n",
    "        self.emoji = emoji\n",
    "        self.content = content\n",
    "        self.image = image\n",
    "        \n",
    "class ArticleFetcher():\n",
    "    def fetch(self):\n",
    "        url = \"http://python.beispiel.programmierenlernen.io/index.php\"\n",
    "        r = requests.get(url)\n",
    "        doc = BeautifulSoup(r.text, \"html.parser\")\n",
    "        \n",
    "        articles = []\n",
    "        for card in doc.select(\".card\"):\n",
    "            emoji = card.select_one(\".emoji\").text\n",
    "            content = card.select_one(\".card-text\").text\n",
    "            title = card.select(\".card-title span\")[1].text\n",
    "            image = urljoin(url, card.select_one(\"img\").attrs[\"src\"])\n",
    "\n",
    "            crawled = CrawledArticle(title, emoji, content, image)\n",
    "            articles.append(crawled)\n",
    "        return articles"
   ]
  },
  {
   "cell_type": "code",
   "execution_count": 71,
   "metadata": {},
   "outputs": [
    {
     "name": "stdout",
     "output_type": "stream",
     "text": [
      "http://python.beispiel.programmierenlernen.io/img/1.jpg\n",
      "http://python.beispiel.programmierenlernen.io/img/2.jpg\n",
      "http://python.beispiel.programmierenlernen.io/img/3.jpg\n",
      "http://python.beispiel.programmierenlernen.io/img/4.jpg\n",
      "http://python.beispiel.programmierenlernen.io/img/5.jpg\n",
      "http://python.beispiel.programmierenlernen.io/img/6.jpg\n",
      "http://python.beispiel.programmierenlernen.io/img/7.jpg\n"
     ]
    }
   ],
   "source": [
    "fetcher = ArticleFetcher()\n",
    "articles = fetcher.fetch()\n",
    "\n",
    "for article in articles:\n",
    "    print(article.image)"
   ]
  }
 ],
 "metadata": {
  "kernelspec": {
   "display_name": "Python 3",
   "language": "python",
   "name": "python3"
  },
  "language_info": {
   "codemirror_mode": {
    "name": "ipython",
    "version": 3
   },
   "file_extension": ".py",
   "mimetype": "text/x-python",
   "name": "python",
   "nbconvert_exporter": "python",
   "pygments_lexer": "ipython3",
   "version": "3.6.5"
  }
 },
 "nbformat": 4,
 "nbformat_minor": 2
}
