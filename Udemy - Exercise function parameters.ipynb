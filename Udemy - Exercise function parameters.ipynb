{
 "cells": [
  {
   "cell_type": "markdown",
   "metadata": {},
   "source": [
    "# Exercise function parameters & sorting functions\n",
    "\n",
    "In this exercise sheet I have prepared a few tasks for you. Have fun with these exercises! :-)\n",
    "\n",
    "When you have finished this exercise sheet, you can use the sample solution in text form (File: Compare `exercise function parameters (sample solution)`). \n",
    "\n",
    "The video sample solution (in the next lesson) is particularly detailed. If you have solved everything correctly, it is perfectly okay if you skip this lesson. :-)"
   ]
  },
  {
   "cell_type": "markdown",
   "metadata": {
    "collapsed": true
   },
   "source": [
    "### task 1\n",
    "\n",
    "Complete the `shortest_word()` function: pass several strings to it (NO list of strings!), of which it returns the string with the fewest characters.\n",
    "\n",
    "Note: Use variable parameters (with asterisks `*` or double asterisks `**`)!"
   ]
  },
  {
   "cell_type": "code",
   "execution_count": 2,
   "metadata": {},
   "outputs": [
    {
     "name": "stdout",
     "output_type": "stream",
     "text": [
      "Jo\n"
     ]
    }
   ],
   "source": [
    "def shortest_word(first, *words):\n",
    "    shortest = first\n",
    "    for word in words:\n",
    "        if len(word) < len(shortest):\n",
    "            \n",
    "            return word\n",
    "    \n",
    "print(shortest_word(\"Max\", \"Paula\", \"Monica\", \"Tim\", \"Jo\"))"
   ]
  },
  {
   "cell_type": "markdown",
   "metadata": {},
   "source": [
    "Expected output:\n",
    "\n",
    "```\n",
    "Jo\n",
    "```"
   ]
  },
  {
   "cell_type": "markdown",
   "metadata": {},
   "source": [
    "### task 2"
   ]
  },
  {
   "cell_type": "markdown",
   "metadata": {},
   "source": [
    "**a.)**\n",
    "\n",
    "Sort the tuples in the list `tupels` in ascending order of their sum!\n",
    "\n",
    "**Note:** Write a normal function first and then solve the task again with a lambda function."
   ]
  },
  {
   "cell_type": "code",
   "execution_count": 39,
   "metadata": {},
   "outputs": [
    {
     "name": "stdout",
     "output_type": "stream",
     "text": [
      "[(4, 1), (3, 3), (10, 2), (5, 7), (11, 3), (0, 17)]\n",
      "\n",
      "\n",
      "[(4, 1), (3, 3), (10, 2), (5, 7), (11, 3), (0, 17)]\n"
     ]
    }
   ],
   "source": [
    "tuples = [(10, 2), (4, 1), (0, 17), (3, 3), (5, 7), (11, 3)]\n",
    "\n",
    "def tuples_sort(a):\n",
    "    return a[0] + a[1] \n",
    "\n",
    "tuples.sort(key = tuples_sort)\n",
    "\n",
    "print(tuples)\n",
    "\n",
    "print('\\n')\n",
    "\n",
    "tuples.sort(key = lambda t: t[0] + t[1])\n",
    "print(tuples)"
   ]
  },
  {
   "cell_type": "markdown",
   "metadata": {
    "collapsed": true
   },
   "source": [
    "Expected output:\n",
    "\n",
    "```python\n",
    "[(4, 1), (3, 3), (10, 2), (5, 7), (11, 3), (0, 17)]\n",
    "```"
   ]
  },
  {
   "cell_type": "markdown",
   "metadata": {},
   "source": [
    "**b.)** \n",
    "\n",
    "Sort the list `names` by last name. You can assume that all names in the list contain only one first name. The format of the names is always \"first name surname\".\n",
    "\n",
    "First think about how to get the last name and then write the function you pass to the `.sort()` function.\n",
    "\n",
    "**Note:** Write a normal function first and then solve the task again with a lambda function."
   ]
  },
  {
   "cell_type": "code",
   "execution_count": 28,
   "metadata": {},
   "outputs": [
    {
     "name": "stdout",
     "output_type": "stream",
     "text": [
      "['Anton Adel', 'Anna Boa', 'Conny Coder', 'Willy Cordes', 'Elif Else', 'Steven Moser', 'Tine Tuner']\n",
      "\n",
      "\n",
      "['Anton Adel', 'Anna Boa', 'Conny Coder', 'Willy Cordes', 'Elif Else', 'Steven Moser', 'Tine Tuner']\n"
     ]
    }
   ],
   "source": [
    "names = [\"Elif Else\", \"Steven Moser\", \"Anna Boa\", \"Anton Adel\", \"Conny Coder\", \"Tine Tuner\", \"Willy Cordes\"]\n",
    "\n",
    "def names_sort(a):\n",
    "    return a.split()[1]\n",
    "\n",
    "names.sort(key = names_sort)\n",
    "\n",
    "print(names)\n",
    "\n",
    "print('\\n')\n",
    "\n",
    "names.sort(key = lambda a: a.split()[1])\n",
    "print(names)"
   ]
  },
  {
   "cell_type": "markdown",
   "metadata": {},
   "source": [
    "Expected output:\n",
    "\n",
    "```python\n",
    "['Anton Adel', 'Anna Boa', 'Conny Coder', 'Willy Cordes', 'Elif Else', 'Steven Moser', 'Tine Tuner']\n",
    "```"
   ]
  },
  {
   "cell_type": "markdown",
   "metadata": {},
   "source": [
    "**c.)**\n",
    "\n",
    "Sort the list `sentences` in descending order by the number of words contained in each element of `sentences`. You can assume that all words in the sentences are properly separated by spaces. :-)\n",
    "\n",
    "Think about how to determine the number of words in a sentence first.\n",
    "\n",
    "**Note:** Write a normal function first and then solve the task again with a lambda function."
   ]
  },
  {
   "cell_type": "code",
   "execution_count": 46,
   "metadata": {},
   "outputs": [
    {
     "name": "stdout",
     "output_type": "stream",
     "text": [
      "['They kept walking along the beach.', 'The dog barked loudly.', 'He slipped.', 'She laughed loud.']\n",
      "\n",
      "\n",
      "['They kept walking along the beach.', 'The dog barked loudly.', 'She laughed loud.', 'He slipped.']\n"
     ]
    }
   ],
   "source": [
    "sentences = [\"They kept walking along the beach.\", \"The dog barked loudly.\", \"He slipped.\", \"She laughed loud.\"]\n",
    "\n",
    "def sentences_sort(first):\n",
    "    longest = first\n",
    "    for word in words:\n",
    "        if len(words) > len(longest):\n",
    "            return word\n",
    "\n",
    "print(sentences)\n",
    "\n",
    "print('\\n')\n",
    "\n",
    "sentences.sort(key =  lambda first: len(first.split()), reverse = True)\n",
    "print(sentences)"
   ]
  },
  {
   "cell_type": "markdown",
   "metadata": {},
   "source": [
    "Expected output:\n",
    "\n",
    "```python\n",
    "['They kept walking along the beach.', 'The dog barked loudly.', 'He slipped.', 'She laughed loud.']\n",
    "```"
   ]
  },
  {
   "cell_type": "markdown",
   "metadata": {},
   "source": [
    "### Extra task (difficult)\n",
    "\n",
    "Change the following code so that the list `l` is no longer overwritten within the `make_row()` function. The list that `make_row()` outputs should therefore be identical to the previous list. However, `l` is to be output in its original form at the end."
   ]
  },
  {
   "cell_type": "code",
   "execution_count": 37,
   "metadata": {},
   "outputs": [
    {
     "name": "stdout",
     "output_type": "stream",
     "text": [
      "['o', 'x', 'x']\n",
      "['o', 'x', 'o']\n"
     ]
    }
   ],
   "source": [
    "l = [\"o\", \"x\", \"o\"]\n",
    "\n",
    "def make_row(row):\n",
    "    new_row = row[:]\n",
    "    new_row[2] = \"x\"\n",
    "    print(new_row)\n",
    "\n",
    "    \n",
    "make_row(l)\n",
    "print(l)"
   ]
  },
  {
   "cell_type": "markdown",
   "metadata": {},
   "source": [
    "Expected output:\n",
    "\n",
    "```python\n",
    "['o', 'x', 'x']\n",
    "['o', 'x', 'o']\n",
    "```"
   ]
  }
 ],
 "metadata": {
  "kernelspec": {
   "display_name": "Python 3",
   "language": "python",
   "name": "python3"
  },
  "language_info": {
   "codemirror_mode": {
    "name": "ipython",
    "version": 3
   },
   "file_extension": ".py",
   "mimetype": "text/x-python",
   "name": "python",
   "nbconvert_exporter": "python",
   "pygments_lexer": "ipython3",
   "version": "3.6.5"
  }
 },
 "nbformat": 4,
 "nbformat_minor": 2
}
