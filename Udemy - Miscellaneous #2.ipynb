{
 "cells": [
  {
   "cell_type": "code",
   "execution_count": 1,
   "metadata": {},
   "outputs": [],
   "source": [
    "#Date values\n",
    "from datetime import datetime"
   ]
  },
  {
   "cell_type": "code",
   "execution_count": 6,
   "metadata": {},
   "outputs": [
    {
     "name": "stdout",
     "output_type": "stream",
     "text": [
      "2018-08-24 14:49:16.991300\n"
     ]
    }
   ],
   "source": [
    "#Call current time\n",
    "now = datetime.now()\n",
    "print(now)"
   ]
  },
  {
   "cell_type": "code",
   "execution_count": 7,
   "metadata": {},
   "outputs": [
    {
     "name": "stdout",
     "output_type": "stream",
     "text": [
      "2018-08-25 20:30:30\n"
     ]
    }
   ],
   "source": [
    "#Creating your own 'datetime'\n",
    "adjust = datetime(2018, 8, 25, 20, 30, 30)\n",
    "print(adjust)"
   ]
  },
  {
   "cell_type": "code",
   "execution_count": 9,
   "metadata": {},
   "outputs": [
    {
     "name": "stdout",
     "output_type": "stream",
     "text": [
      "2018\n",
      "8\n",
      "25\n",
      "20\n",
      "30\n",
      "30\n"
     ]
    }
   ],
   "source": [
    "print(adjust.year)\n",
    "print(adjust.month)\n",
    "print(adjust.day)\n",
    "print(adjust.hour)\n",
    "print(adjust.minute)\n",
    "print(adjust.second)"
   ]
  },
  {
   "cell_type": "code",
   "execution_count": 10,
   "metadata": {},
   "outputs": [
    {
     "name": "stdout",
     "output_type": "stream",
     "text": [
      "1535118556.9913\n"
     ]
    }
   ],
   "source": [
    "#Unix timestamp\n",
    "print(now.timestamp())                                #Seconds since 1/11970"
   ]
  },
  {
   "cell_type": "code",
   "execution_count": 17,
   "metadata": {},
   "outputs": [
    {
     "name": "stdout",
     "output_type": "stream",
     "text": [
      "106873.00869989395\n"
     ]
    }
   ],
   "source": [
    "print(adjust.timestamp() - now.timestamp())"
   ]
  },
  {
   "cell_type": "code",
   "execution_count": 18,
   "metadata": {},
   "outputs": [],
   "source": [
    "#If don't want date & time combined\n",
    "from datetime import date, time"
   ]
  },
  {
   "cell_type": "code",
   "execution_count": 19,
   "metadata": {},
   "outputs": [
    {
     "name": "stdout",
     "output_type": "stream",
     "text": [
      "2018-08-30\n"
     ]
    }
   ],
   "source": [
    "d = date(2018, 8, 30)\n",
    "print(d)"
   ]
  },
  {
   "cell_type": "code",
   "execution_count": 20,
   "metadata": {},
   "outputs": [
    {
     "name": "stdout",
     "output_type": "stream",
     "text": [
      "15:00:00\n"
     ]
    }
   ],
   "source": [
    "t = time(15, 0, 0)\n",
    "print(t)"
   ]
  },
  {
   "cell_type": "code",
   "execution_count": 22,
   "metadata": {},
   "outputs": [
    {
     "name": "stdout",
     "output_type": "stream",
     "text": [
      "20:00:00\n",
      "2018-08-30\n"
     ]
    }
   ],
   "source": [
    "ex = datetime(2018, 8, 30, 20, 0)\n",
    "print(ex.time())\n",
    "print(ex.date())"
   ]
  },
  {
   "cell_type": "code",
   "execution_count": 24,
   "metadata": {},
   "outputs": [
    {
     "name": "stdout",
     "output_type": "stream",
     "text": [
      "2018-08-30 20:00:00\n"
     ]
    }
   ],
   "source": [
    "#Combining date and time\n",
    "my_ex = datetime.combine(date(2018, 8, 30), time(20, 0 , 0))\n",
    "print(my_ex)"
   ]
  },
  {
   "cell_type": "code",
   "execution_count": 37,
   "metadata": {},
   "outputs": [
    {
     "name": "stdout",
     "output_type": "stream",
     "text": [
      "2018-08-24 15:01:26.681895\n",
      "\n",
      "\n",
      "Today is: 24.08.2018\n",
      "Today is: 24.08.18\n"
     ]
    }
   ],
   "source": [
    "#Outputting data values\n",
    "now = datetime.now()\n",
    "print(now)\n",
    "\n",
    "print('\\n')\n",
    "\n",
    "print(now.strftime('Today is: %d.%m.%Y'))             #'Y' must be uppercase to get '2018' -> 'm' & 'y' must be lowercase\n",
    "print(now.strftime('Today is: %d.%m.%y'))  "
   ]
  },
  {
   "cell_type": "code",
   "execution_count": 44,
   "metadata": {},
   "outputs": [
    {
     "name": "stdout",
     "output_type": "stream",
     "text": [
      "1999-05-06 00:00:00\n"
     ]
    }
   ],
   "source": [
    "test2 = '06.05.1999'                                        #Must match format given below \n",
    "print(datetime.strptime(test2, '%d.%m.%Y'))"
   ]
  },
  {
   "cell_type": "code",
   "execution_count": 45,
   "metadata": {},
   "outputs": [],
   "source": [
    "#Time differences\n",
    "from datetime import timedelta"
   ]
  },
  {
   "cell_type": "code",
   "execution_count": 46,
   "metadata": {},
   "outputs": [
    {
     "name": "stdout",
     "output_type": "stream",
     "text": [
      "2018-08-24 15:06:59.734097\n"
     ]
    }
   ],
   "source": [
    "now = datetime.now()\n",
    "print(now)"
   ]
  },
  {
   "cell_type": "code",
   "execution_count": 53,
   "metadata": {},
   "outputs": [
    {
     "name": "stdout",
     "output_type": "stream",
     "text": [
      "2018-08-29 18:12:04.734097\n"
     ]
    }
   ],
   "source": [
    "print(now + timedelta(days = 5, hours = 3, minutes = 5, seconds = 5))"
   ]
  },
  {
   "cell_type": "code",
   "execution_count": 55,
   "metadata": {},
   "outputs": [
    {
     "name": "stdout",
     "output_type": "stream",
     "text": [
      "5 days, 8:53:00.265903\n"
     ]
    }
   ],
   "source": [
    "example = datetime(2018, 8, 30)\n",
    "td = example - now                                 #'td' = timedelta (Difference between arbitrary datetime and current datetime)\n",
    "print(td)"
   ]
  },
  {
   "cell_type": "code",
   "execution_count": 60,
   "metadata": {},
   "outputs": [
    {
     "name": "stdout",
     "output_type": "stream",
     "text": [
      "2019-01-06 08:53:00.265903\n"
     ]
    }
   ],
   "source": [
    "print(datetime(2019, 1, 1) + td)"
   ]
  },
  {
   "cell_type": "code",
   "execution_count": 61,
   "metadata": {},
   "outputs": [
    {
     "name": "stdout",
     "output_type": "stream",
     "text": [
      "True\n",
      "False\n"
     ]
    }
   ],
   "source": [
    "print(date(2017, 8, 20) == date(2017, 8, 20))                #Datetimes are compatible with Boolean logic\n",
    "print(datetime(2017, 8, 20, 20, 0, 0) == datetime(2017, 8, 20, 15, 0, 0))"
   ]
  },
  {
   "cell_type": "code",
   "execution_count": 87,
   "metadata": {},
   "outputs": [
    {
     "name": "stdout",
     "output_type": "stream",
     "text": [
      "Friday, 24th of August\n",
      "Fri, 24th of Aug\n",
      "Friday, 24th of August, 15.33PM\n",
      "Fri, 24th of Aug 2018, 03.33, 33, 236\n"
     ]
    }
   ],
   "source": [
    "day = datetime.now()                                          \n",
    "print(day.strftime('%A, %dth of %B'))                  #'A' indicates full weekday name - 'a' indicates abbreviated weekday name\n",
    "print(day.strftime('%a, %dth of %b'))                  #'B' indicates full month name - 'b' indicates abbreviated month name\n",
    "print(day.strftime('%A, %dth of %B, %H.%M%p'))         #'H' indicates hour - 'M' indicates minute - 'p' indicates AM/PM\n",
    "print(day.strftime('%a, %dth of %b %Y, %I.%M, %U, %j'))    #'U' indicates week number of the year - 'j' indicates day of the year"
   ]
  },
  {
   "cell_type": "code",
   "execution_count": null,
   "metadata": {},
   "outputs": [],
   "source": [
    "#https://docs.python.org/3.6/library/time.html          Notation for strftime"
   ]
  },
  {
   "cell_type": "code",
   "execution_count": 8,
   "metadata": {},
   "outputs": [
    {
     "name": "stdout",
     "output_type": "stream",
     "text": [
      "HELLO HOW ARE YOU\n",
      "\n",
      "\n",
      "hello how are you\n"
     ]
    }
   ],
   "source": [
    "#String functions\n",
    "list = 'hello how are you'\n",
    "print(list.upper())\n",
    "print('\\n')\n",
    "list2 = ('HELLO HOW ARE YOU')                                              #Round brackets '()' are not necessary  \n",
    "print(list2.lower())"
   ]
  },
  {
   "cell_type": "code",
   "execution_count": 10,
   "metadata": {},
   "outputs": [
    {
     "name": "stdout",
     "output_type": "stream",
     "text": [
      "hello\n",
      "hello\n"
     ]
    }
   ],
   "source": [
    "x = 'Hello'\n",
    "print(x.lower())\n",
    "print('HELlo'.lower())"
   ]
  },
  {
   "cell_type": "code",
   "execution_count": 15,
   "metadata": {},
   "outputs": [
    {
     "name": "stdout",
     "output_type": "stream",
     "text": [
      "3-2\n",
      "Invalid\n",
      "Correct\n"
     ]
    }
   ],
   "source": [
    "test = 'What is the score in the game?'\n",
    "if test.endswith('?'):\n",
    "    print('3-2')\n",
    "if test.endswith('scores'):\n",
    "        print('No')\n",
    "else:\n",
    "        print('Invalid')\n",
    "        \n",
    "if test.startswith('What'):\n",
    "    print('Correct')"
   ]
  },
  {
   "cell_type": "code",
   "execution_count": 16,
   "metadata": {},
   "outputs": [
    {
     "data": {
      "text/plain": [
       "'Hello How Are You.'"
      ]
     },
     "execution_count": 16,
     "metadata": {},
     "output_type": "execute_result"
    }
   ],
   "source": [
    "'          Hello How Are You.       '.strip()       #The '.strip()' method removes spaces from the beginning and end of a string"
   ]
  },
  {
   "cell_type": "code",
   "execution_count": 31,
   "metadata": {},
   "outputs": [
    {
     "name": "stdout",
     "output_type": "stream",
     "text": [
      "Hello.\n",
      "Hello._______\n",
      "_________Hello\n",
      "What is the score in the games today\n",
      "12\n",
      "13\n",
      "-1\n",
      "What is the time in the games today???\n",
      "What is the sc0re in the games t0day???\n",
      "\\/\\/hat is the score in the games today???\n"
     ]
    }
   ],
   "source": [
    "word = '_________Hello._______'\n",
    "print(word.strip('______'))\n",
    "print(word.lstrip('_'))                                #'lstrip' indicates to strip everything to the left\n",
    "print(word.rstrip('_.'))                               #'rstrip' indicates to strip everything to the left\n",
    "\n",
    "test2 = 'What is the score in the games today???'\n",
    "print(test2.rstrip('???'))\n",
    "print(test2.find('score'))\n",
    "print(test2.find('cor'))\n",
    "print(test2.find('football'))                          #A return of -1 indicates that the character is not found in the string\n",
    "print(test2.replace('score', 'time'))\n",
    "print(test2.replace('o', '0'))\n",
    "print(test2.replace('W','\\/\\/'))"
   ]
  },
  {
   "cell_type": "code",
   "execution_count": 33,
   "metadata": {},
   "outputs": [
    {
     "name": "stdout",
     "output_type": "stream",
     "text": [
      "I currently have 10 dollars\n"
     ]
    }
   ],
   "source": [
    "#Format strings\n",
    "a = 10\n",
    "print('I currently have' + ' ' + str(a) + ' ' + 'dollars')"
   ]
  },
  {
   "cell_type": "code",
   "execution_count": 34,
   "metadata": {},
   "outputs": [
    {
     "name": "stdout",
     "output_type": "stream",
     "text": [
      "I currently have 10 dollars\n"
     ]
    }
   ],
   "source": [
    "d = {\n",
    "    'No. of dogs': 'I currently have XX dollars'\n",
    "}\n",
    "print(d['No. of dogs'].replace('XX', str(a)))"
   ]
  },
  {
   "cell_type": "code",
   "execution_count": 35,
   "metadata": {},
   "outputs": [
    {
     "name": "stdout",
     "output_type": "stream",
     "text": [
      "I currently have 10 dollars\n"
     ]
    }
   ],
   "source": [
    "d = {\n",
    "    'No. of dogs': 'I currently have {0} dollars'           #Value to be put in '{0}' comes from '.format(n)' below (Placeholder)\n",
    "}\n",
    "print(d['No. of dogs'].format(a))"
   ]
  },
  {
   "cell_type": "code",
   "execution_count": 36,
   "metadata": {},
   "outputs": [
    {
     "name": "stdout",
     "output_type": "stream",
     "text": [
      "I currently have 10 dollars\n"
     ]
    }
   ],
   "source": [
    "print('I currently have {0} dollars'.format(a))"
   ]
  },
  {
   "cell_type": "code",
   "execution_count": 51,
   "metadata": {},
   "outputs": [
    {
     "name": "stdout",
     "output_type": "stream",
     "text": [
      "I currently have 10 cats 10 cats dollars\n"
     ]
    }
   ],
   "source": [
    "print('I currently have {0} {1} {0} {1} dollars'.format(a, 'cats'))    \n",
    "#'{0}' & '{1}' indicate index of items in '.format'  ->  (a/10 = {0}, cats = {1})"
   ]
  },
  {
   "cell_type": "code",
   "execution_count": 43,
   "metadata": {},
   "outputs": [
    {
     "name": "stdout",
     "output_type": "stream",
     "text": [
      "Pi has the value of: 3.14\n"
     ]
    }
   ],
   "source": [
    "print('Pi has the value of: {0:.2f}'.format(3.14159))                            #'{0:.2f}' indicates no. of decimals to round to"
   ]
  },
  {
   "cell_type": "code",
   "execution_count": 49,
   "metadata": {},
   "outputs": [
    {
     "name": "stdout",
     "output_type": "stream",
     "text": [
      "I have 500 Sterling\n"
     ]
    }
   ],
   "source": [
    "print('I have {number} {currency}'.format(number = 500, currency = 'Sterling'))    #Can manually assign values to placeholders"
   ]
  },
  {
   "cell_type": "code",
   "execution_count": 50,
   "metadata": {},
   "outputs": [
    {
     "name": "stdout",
     "output_type": "stream",
     "text": [
      "I have  500.000 Sterling\n"
     ]
    }
   ],
   "source": [
    "print('I have {number: .3f} {currency}'.format(number = 500, currency = 'Sterling'))          #Indicating decimal places"
   ]
  },
  {
   "cell_type": "code",
   "execution_count": 53,
   "metadata": {},
   "outputs": [],
   "source": [
    "#DefaultDict\n",
    "from collections import defaultdict                       #Implies you already have a default value in your dictionary"
   ]
  },
  {
   "cell_type": "code",
   "execution_count": 67,
   "metadata": {},
   "outputs": [
    {
     "ename": "KeyError",
     "evalue": "'Invalid'",
     "output_type": "error",
     "traceback": [
      "\u001b[1;31m---------------------------------------------------------------------------\u001b[0m",
      "\u001b[1;31mKeyError\u001b[0m                                  Traceback (most recent call last)",
      "\u001b[1;32m<ipython-input-67-1add6d063674>\u001b[0m in \u001b[0;36m<module>\u001b[1;34m()\u001b[0m\n\u001b[0;32m      1\u001b[0m \u001b[0md2\u001b[0m \u001b[1;33m=\u001b[0m \u001b[1;33m{\u001b[0m\u001b[1;33m}\u001b[0m\u001b[1;33m\u001b[0m\u001b[0m\n\u001b[1;32m----> 2\u001b[1;33m \u001b[0md2\u001b[0m\u001b[1;33m[\u001b[0m\u001b[1;34m'Invalid'\u001b[0m\u001b[1;33m]\u001b[0m\u001b[1;33m\u001b[0m\u001b[0m\n\u001b[0m\u001b[0;32m      3\u001b[0m \u001b[0mprint\u001b[0m\u001b[1;33m(\u001b[0m\u001b[0md2\u001b[0m\u001b[1;33m)\u001b[0m                                        \u001b[1;31m#Expected error -> 'd2' is meant to be empty '{}'\u001b[0m\u001b[1;33m\u001b[0m\u001b[0m\n",
      "\u001b[1;31mKeyError\u001b[0m: 'Invalid'"
     ]
    }
   ],
   "source": [
    "d2 = {}\n",
    "d2['Invalid']\n",
    "print(d2)                                        #Expected error -> 'd2' is meant to be empty ('{}')"
   ]
  },
  {
   "cell_type": "code",
   "execution_count": 58,
   "metadata": {},
   "outputs": [
    {
     "name": "stdout",
     "output_type": "stream",
     "text": [
      "Example was called\n",
      "15\n"
     ]
    }
   ],
   "source": [
    "def example():\n",
    "    print('Example was called')\n",
    "    return 10\n",
    "\n",
    "d3 = defaultdict(example)\n",
    "d3['Invalid'] = d3['Invalid'] + 5\n",
    "print(d3['Invalid'])"
   ]
  },
  {
   "cell_type": "code",
   "execution_count": 68,
   "metadata": {},
   "outputs": [
    {
     "name": "stdout",
     "output_type": "stream",
     "text": [
      "0\n",
      "defaultdict(<class 'int'>, {'Ok': 2, 'Yes': 1, 'No': 2})\n"
     ]
    }
   ],
   "source": [
    "print(int())                                     #'int()' function returns 0\n",
    "ex = defaultdict(int)\n",
    "\n",
    "type = ['Ok', 'Yes', 'No', 'Ok', 'No']\n",
    "for word in type:\n",
    "    ex[word] = ex[word] +1\n",
    "    \n",
    "print(ex)                #Words in 'type' can only exist in key once -> How many times a particular value/word appears in a list"
   ]
  }
 ],
 "metadata": {
  "kernelspec": {
   "display_name": "Python 3",
   "language": "python",
   "name": "python3"
  },
  "language_info": {
   "codemirror_mode": {
    "name": "ipython",
    "version": 3
   },
   "file_extension": ".py",
   "mimetype": "text/x-python",
   "name": "python",
   "nbconvert_exporter": "python",
   "pygments_lexer": "ipython3",
   "version": "3.6.5"
  }
 },
 "nbformat": 4,
 "nbformat_minor": 2
}
