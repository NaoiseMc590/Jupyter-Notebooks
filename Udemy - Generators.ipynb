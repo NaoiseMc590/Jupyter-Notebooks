{
 "cells": [
  {
   "cell_type": "code",
   "execution_count": 6,
   "metadata": {},
   "outputs": [
    {
     "name": "stdout",
     "output_type": "stream",
     "text": [
      "list: 1\n",
      "list: 1\n",
      "list: 1\n",
      "list: 1\n",
      "list: 1\n",
      "list: 1\n",
      "list: 1\n",
      "list: 1\n",
      "list: 1\n",
      "list: 1\n",
      "[0, 1, 2, 3, 4, 5, 6, 7, 8, 9]\n",
      "For: 0\n",
      "For: 1\n",
      "For: 2\n",
      "For: 3\n",
      "For: 4\n",
      "For: 5\n",
      "For: 6\n",
      "For: 7\n",
      "For: 8\n",
      "For: 9\n"
     ]
    }
   ],
   "source": [
    "#Generators return an iterable set of items ONE AT A TIME - Used to prevent going through excessive/non-required data\n",
    "def gen_list():\n",
    "    list1 = []\n",
    "    for i in range(0,10):\n",
    "        print('list: ' + str(1))\n",
    "        list1.append(i)\n",
    "    print(list1)\n",
    "    return list1\n",
    "    \n",
    "for element in gen_list():\n",
    "    print('For: ' + str(element))"
   ]
  },
  {
   "cell_type": "code",
   "execution_count": 3,
   "metadata": {},
   "outputs": [
    {
     "name": "stdout",
     "output_type": "stream",
     "text": [
      "Gen: 0\n",
      "For: 0\n",
      "Gen: 1\n",
      "For: 1\n",
      "Gen: 2\n",
      "For: 2\n",
      "Gen: 3\n",
      "For: 3\n",
      "Gen: 4\n",
      "For: 4\n",
      "Gen: 5\n",
      "For: 5\n",
      "Gen: 6\n",
      "For: 6\n",
      "Gen: 7\n",
      "For: 7\n",
      "Gen: 8\n",
      "For: 8\n",
      "Gen: 9\n",
      "For: 9\n"
     ]
    }
   ],
   "source": [
    "def generator():\n",
    "    for i in range(0,10):\n",
    "        print('Gen: ' + str(i))\n",
    "        yield i\n",
    "        \n",
    "for element in generator():\n",
    "    print('For: ' + str(element))\n",
    "        "
   ]
  },
  {
   "cell_type": "code",
   "execution_count": 9,
   "metadata": {},
   "outputs": [
    {
     "name": "stdout",
     "output_type": "stream",
     "text": [
      "Gen: 0\n",
      "For: 0\n",
      "Gen: 1\n",
      "For: 1\n",
      "Gen: 2\n",
      "For: 2\n",
      "Gen: 3\n",
      "For: 3\n",
      "Gen: 4\n"
     ]
    }
   ],
   "source": [
    "for element in generator():\n",
    "    if element == 4:\n",
    "        break\n",
    "    print('For: ' + str(element))"
   ]
  },
  {
   "cell_type": "code",
   "execution_count": 10,
   "metadata": {},
   "outputs": [],
   "source": [
    "import requests\n",
    "from bs4 import BeautifulSoup\n",
    "from urllib.parse import urljoin\n",
    "import time"
   ]
  },
  {
   "cell_type": "code",
   "execution_count": 19,
   "metadata": {},
   "outputs": [
    {
     "name": "stdout",
     "output_type": "stream",
     "text": [
      "http://python.beispiel.programmierenlernen.io/index.php\n",
      "😩 : Polarised modular conglomeration\n",
      "😐 : Cross-group contextually-based middleware\n",
      "😌 : De-engineered encompassing structure\n",
      "😚 : Fully-configurable multi-tasking interface\n",
      "😠 : Versatile eco-centric core\n",
      "😮 : Optional maximized utilisation\n",
      "😢 : Open-architected secondary product\n",
      "http://python.beispiel.programmierenlernen.io/index.php?page=2\n",
      "😠 : Realigned zerotolerance function\n",
      "😆 : Quality-focused user-facing help-desk\n",
      "😤 : Proactive user-facing opensystem\n"
     ]
    }
   ],
   "source": [
    "class CrawledArticle():\n",
    "    def __init__(self, title, emoji, content, image):\n",
    "        self.title = title\n",
    "        self.emoji = emoji\n",
    "        self.content = content\n",
    "        self.image = image\n",
    "        \n",
    "class ArticleFetcher():\n",
    "    def fetch(self):\n",
    "        url = \"http://python.beispiel.programmierenlernen.io/index.php\"\n",
    "        \n",
    "        while url != \"\":\n",
    "            print(url)\n",
    "            time.sleep(1)\n",
    "            r = requests.get(url)\n",
    "            doc = BeautifulSoup(r.text, \"html.parser\")\n",
    "            \n",
    "            for card in doc.select(\".card\"):\n",
    "                emoji = card.select_one(\".emoji\").text\n",
    "                content = card.select_one(\".card-text\").text\n",
    "                title = card.select(\".card-title span\")[1].text\n",
    "                image = urljoin(url, card.select_one(\"img\").attrs[\"src\"])\n",
    "\n",
    "                yield CrawledArticle(title, emoji, content, image)                    #Generator in action\n",
    "\n",
    "            next_button = doc.select_one(\".navigation .btn\")\n",
    "            if next_button:\n",
    "                next_href = next_button.attrs[\"href\"]\n",
    "                next_href = urljoin(url, next_href)            \n",
    "                url = next_href\n",
    "            else:\n",
    "                url = \"\"\n",
    "                \n",
    "        #return articles\n",
    "    \n",
    "fetcher = ArticleFetcher()\n",
    "#fetcher.fetch()\n",
    "\n",
    "counter = 0\n",
    "for article in fetcher.fetch():\n",
    "    if counter == 10:                                                     #Indicating that you only want to call first 10 emojis\n",
    "        break\n",
    "    counter +=1\n",
    "    print(article.emoji + ' : ' + article.title)     "
   ]
  }
 ],
 "metadata": {
  "kernelspec": {
   "display_name": "Python 3",
   "language": "python",
   "name": "python3"
  },
  "language_info": {
   "codemirror_mode": {
    "name": "ipython",
    "version": 3
   },
   "file_extension": ".py",
   "mimetype": "text/x-python",
   "name": "python",
   "nbconvert_exporter": "python",
   "pygments_lexer": "ipython3",
   "version": "3.6.5"
  }
 },
 "nbformat": 4,
 "nbformat_minor": 2
}
