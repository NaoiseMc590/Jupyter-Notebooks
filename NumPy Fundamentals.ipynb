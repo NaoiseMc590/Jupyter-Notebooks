{
 "cells": [
  {
   "cell_type": "code",
   "execution_count": 2,
   "metadata": {},
   "outputs": [],
   "source": [
    "#NumPy is centered around 'arrays' which are more efficient & convenient than Python lists\n",
    "import numpy as np"
   ]
  },
  {
   "cell_type": "code",
   "execution_count": 4,
   "metadata": {},
   "outputs": [
    {
     "name": "stdout",
     "output_type": "stream",
     "text": [
      "1\n",
      "5\n"
     ]
    }
   ],
   "source": [
    "#A one-dimensional array is compared to Python lists as it stores a list of numbers \n",
    "#Data in an array are called 'elements' and are accessed using brackets []\n",
    "#A two-dimensional array has a grid structure with rows and columns\n",
    "#A three-dimensional arrray is a stack of two-dimensional arrays\n",
    "\n",
    "a = np.array([1, 2, 3, 4, 5])                      #Dimensions = 'axes'\n",
    "print(a[0])                                        #No. of axes = 'rank'  -> a is an array of rank 1\n",
    "print(a[4])"
   ]
  },
  {
   "cell_type": "code",
   "execution_count": 14,
   "metadata": {},
   "outputs": [
    {
     "name": "stdout",
     "output_type": "stream",
     "text": [
      "[[1 2 3 4]\n",
      " [5 6 7 8]]\n",
      "8\n",
      "2\n",
      "(2, 4)\n",
      "8\n",
      "<class 'numpy.ndarray'>\n"
     ]
    }
   ],
   "source": [
    "b = np.array([[1, 2, 3, 4], [5, 6, 7, 8]])         #b has a rank of 2  --> Note the use of brackets\n",
    "print(b)\n",
    "print(b[1, 3])                                  #Prints the 2nd list of numbers and the index 3 in that list\n",
    "print(b.ndim)                                   #Prints the rank number\n",
    "print(b.shape)                                  #Prints [NO. OF ROWS, NO. OF COLUMNS]\n",
    "print(b.size)                                   #Prints no. of elements\n",
    "print(type(b))                                  #Prints element type"
   ]
  },
  {
   "cell_type": "code",
   "execution_count": 189,
   "metadata": {},
   "outputs": [
    {
     "name": "stdout",
     "output_type": "stream",
     "text": [
      "[[1. 1.]\n",
      " [1. 1.]\n",
      " [1. 1.]]\n",
      "\n",
      "\n",
      "[[0. 0. 0. 0.]\n",
      " [0. 0. 0. 0.]\n",
      " [0. 0. 0. 0.]\n",
      " [0. 0. 0. 0.]]\n",
      "\n",
      "\n",
      "[0.71765543 0.42987726 0.71679846 0.40043122 0.33354933]\n",
      "\n",
      "\n",
      "[[10 10 10 10 10]\n",
      " [10 10 10 10 10]]\n",
      "\n",
      "\n",
      "[[6.23042070e-307 4.67296746e-307 1.69121096e-306 1.37961166e-306\n",
      "  2.22523004e-307 1.24611606e-306 1.69119194e-306 8.90104917e-307\n",
      "  4.45058486e-308 1.78019761e-306]\n",
      " [9.34608432e-307 8.01097889e-307 1.78020169e-306 7.56601165e-307\n",
      "  1.02359984e-306 2.31420176e-306 8.01089062e-307 9.34603679e-307\n",
      "  8.45590539e-307 1.37961641e-306]]\n",
      "\n",
      "\n",
      "[[2. 2. 2. 2. 2.]\n",
      " [2. 2. 2. 2. 2.]]\n"
     ]
    }
   ],
   "source": [
    "c = np.ones((3, 2))                            #Creates an array of ones presented in 3 ranks with 2 dimensions\n",
    "print(c)\n",
    "print('\\n')\n",
    "d = np.zeros((4, 4))\n",
    "print(d)\n",
    "print('\\n')\n",
    "e = np.random.random(5)                        #Creates an array of (x) random values\n",
    "print(e)\n",
    "print('\\n')\n",
    "f = np.full((2, 5), 10)                        #Creates an array of tens presented in 2 ranks with 5 dimensions\n",
    "print(f)\n",
    "print('\\n')\n",
    "g = np.empty([2, 10])                          #Similar to 'np.random.random' \n",
    "print(g)\n",
    "print('\\n')\n",
    "h = np.full((2, 5), 2, dtype=np.float32)       #Can specify which format -> float format or integer format (int)\n",
    "print(h)"
   ]
  },
  {
   "cell_type": "code",
   "execution_count": 71,
   "metadata": {},
   "outputs": [
    {
     "name": "stdout",
     "output_type": "stream",
     "text": [
      "[ 0  4  8 12 16]\n",
      "[0 1 2 3 4 5 6 7 8 9]\n",
      "[ 0.  5. 10. 15. 20.]\n"
     ]
    }
   ],
   "source": [
    "#Creating a sequence\n",
    "x = np.arange(0, 20, 4)             #Creates a numpy array with values between 0-20 incremented by 4 - Returns up to 20\n",
    "print(x)\n",
    "\n",
    "y = np.arange(10)\n",
    "print(y)\n",
    "\n",
    "z = np.linspace(0, 20, 5)           #Creates 5 values between 0-20 evenly spaced - Returns specified number of elements\n",
    "print(z)"
   ]
  },
  {
   "cell_type": "code",
   "execution_count": 190,
   "metadata": {},
   "outputs": [
    {
     "name": "stdout",
     "output_type": "stream",
     "text": [
      "(2, 5)\n",
      "(2, 5)\n",
      "[[0 1 2 3 4]\n",
      " [5 6 7 8 9]]\n",
      "\n",
      "\n",
      "(2, 3)\n",
      "[[1 2 3]\n",
      " [5 6 7]]\n",
      "\n",
      "\n",
      "[[1 2]\n",
      " [3 5]\n",
      " [6 7]]\n",
      "(2, 3)\n",
      "\n",
      "\n",
      "[1 2 3 5 6 7]\n"
     ]
    }
   ],
   "source": [
    "#Changing array shape and size\n",
    "print(y.shape)\n",
    "y.resize(2, 5)                                        #Only 'resize' changes the contents of given array\n",
    "print(y.shape)\n",
    "print(y)\n",
    "\n",
    "print('\\n')\n",
    "\n",
    "b2 = np.array([[1, 2, 3], [5, 6, 7]])  \n",
    "print(b2.shape)\n",
    "print(b2)\n",
    "print('\\n')\n",
    "print(b2.reshape(3, 2))\n",
    "print(b2.shape)\n",
    "print('\\n')\n",
    "print(b2.ravel())                                     #Creates a non-seperated ('flattened') array"
   ]
  },
  {
   "cell_type": "code",
   "execution_count": 84,
   "metadata": {},
   "outputs": [
    {
     "name": "stdout",
     "output_type": "stream",
     "text": [
      "[[ 2 10]\n",
      " [ 4 12]\n",
      " [ 6 14]\n",
      " [ 8 16]]\n"
     ]
    }
   ],
   "source": [
    "j = np.array([[2, 4, 6, 8,], [10, 12, 14, 16]])\n",
    "print(j.transpose())                                "
   ]
  },
  {
   "cell_type": "code",
   "execution_count": 110,
   "metadata": {},
   "outputs": [
    {
     "name": "stdout",
     "output_type": "stream",
     "text": [
      "[0 1 2 3 4 5]\n",
      "(6,)\n",
      "[0 1 2 3]\n",
      "[0 2]\n",
      "[0 2 4]\n",
      "[4 5]\n",
      "[ 4 99]\n",
      "[ 0  1  2  3  4 99]\n",
      "\n",
      "\n",
      "[20 70]\n",
      "[30 80]\n",
      "[30]\n",
      "[ 50 100]\n",
      "[ 50 100]\n"
     ]
    }
   ],
   "source": [
    "#Array slicing\n",
    "k = np.arange(6)\n",
    "print(k)\n",
    "print(k.shape)\n",
    "print(k[0:4])\n",
    "print(k[0:4:2])\n",
    "print(k[:5:2])\n",
    "k2 = k[4:]                                                  #Item 4 onwards (non-inclusive)\n",
    "print(k2)\n",
    "\n",
    "k2[1] = 99                                                 #Changing values in a sub-array of original array\n",
    "print(k2)\n",
    "print(k)\n",
    "\n",
    "print('\\n')\n",
    "\n",
    "\n",
    "l = np.array([[10, 20, 30, 40, 50], [60, 70, 80, 90, 100]])\n",
    "print(l[0:2, 1])                                              #1 refers to index position in both\n",
    "print(l[0:2, 2])                                              #2 refers to index position in both\n",
    "print(l[0:1, 2])                                              #2nd digit refers to in what row (1 = 1st row only)\n",
    "print(l[..., 4])                                              #Ellipsis ('...,') refers to 4th index in each row\n",
    "print(l[ : , 4])                                              #Does the same as '...,'"
   ]
  },
  {
   "cell_type": "code",
   "execution_count": 191,
   "metadata": {},
   "outputs": [
    {
     "name": "stdout",
     "output_type": "stream",
     "text": [
      "[[ 12  24  36  48  60]\n",
      " [ 70  82  94 106 118]]\n",
      "\n",
      "\n",
      "[[5.         5.         5.         5.         5.        ]\n",
      " [6.         5.83333333 5.71428571 5.625      5.55555556]]\n",
      "\n",
      "\n",
      "[[ 8 16 24 32 40]\n",
      " [50 58 66 74 82]]\n",
      "\n",
      "\n",
      "[[  20   80  180  320  500]\n",
      " [ 600  840 1120 1440 1800]]\n",
      "\n",
      "\n",
      "[[  100   400   900  1600  2500]\n",
      " [ 3600  4900  6400  8100 10000]]\n",
      "\n",
      "\n",
      "[[ 8 16 24 32 40]\n",
      " [50 58 66 74 82]]\n",
      "\n",
      "\n",
      "[[False False False False False]\n",
      " [ True  True  True  True  True]]\n"
     ]
    }
   ],
   "source": [
    "#Arithmetic functions\n",
    "l = np.array([[10, 20, 30, 40, 50], [60, 70, 80, 90, 100]])\n",
    "j = np.array([[2, 4, 6, 8, 10], [10, 12, 14, 16, 18]])\n",
    "print(np.add(l, j))\n",
    "print('\\n')\n",
    "print(np.divide(l, j))\n",
    "print('\\n')\n",
    "print(np.subtract(l, j))\n",
    "print('\\n')\n",
    "print(np.multiply(l, j))\n",
    "                                                                   #'np.dot' can be used for matrix multiplication \n",
    "print('\\n')\n",
    "\n",
    "print(l**2)\n",
    "print('\\n')\n",
    "print(l - j)\n",
    "print('\\n')\n",
    "print(l > 50)                                                      #Boolean Logic can also be implemented with arrays"
   ]
  },
  {
   "cell_type": "code",
   "execution_count": 192,
   "metadata": {},
   "outputs": [
    {
     "name": "stdout",
     "output_type": "stream",
     "text": [
      "[[   2.71828183    7.3890561    20.08553692]\n",
      " [ 148.4131591   403.42879349 1096.63315843]]\n",
      "\n",
      "\n",
      "[[1.         1.41421356 1.73205081]\n",
      " [2.23606798 2.44948974 2.64575131]]\n",
      "\n",
      "\n",
      "[[1.    1.414 1.732]\n",
      " [2.236 2.449 2.646]]\n",
      "\n",
      "\n",
      "[[1. 1. 1.]\n",
      " [2. 2. 2.]]\n",
      "\n",
      "\n",
      "[[0.         0.34657359 0.54930614]\n",
      " [0.80471896 0.89587973 0.97295507]]\n"
     ]
    }
   ],
   "source": [
    "#Elementwise functions\n",
    "b2 = np.array([[1, 2, 3], [5, 6, 7]])  \n",
    "print(np.exp(b2))                                                    #'np.exp' calculates the exponential of each item\n",
    "print('\\n')\n",
    "t = np.sqrt(b2)                                                      #'np.sqrt' calculates the square root of each item\n",
    "print(t)\n",
    "print('\\n')\n",
    "print(np.around(t, 3))                              #'np.around()' rounds elements to a specified no. of decimal places\n",
    "print('\\n')\n",
    "print(np.trunc(t))                                  #'np.trunc' shortens (truncates) elements in an array\n",
    "print('\\n')\n",
    "print(np.log(t))                                    #'np.log' calculates natural  log for all elements "
   ]
  },
  {
   "cell_type": "code",
   "execution_count": 149,
   "metadata": {},
   "outputs": [
    {
     "name": "stdout",
     "output_type": "stream",
     "text": [
      "[[1. 2. 3.]\n",
      " [5. 6. 7.]]\n",
      "[[2. 3. 4.]\n",
      " [6. 6. 7.]]\n"
     ]
    }
   ],
   "source": [
    "b23= np.array([[1.5, 2.6, 3.4], [5.1, 6, 7]])\n",
    "print(np.floor(b23))                                #'np.floor' calculates greatest integer >= to a value (Rounds down)\n",
    "print(np.ceil(b23))                                 #'np.ceil' calculates smallest integer >=  to a value (Rounds up)"
   ]
  },
  {
   "cell_type": "code",
   "execution_count": 186,
   "metadata": {},
   "outputs": [
    {
     "name": "stdout",
     "output_type": "stream",
     "text": [
      "[ 70  90 110 130 150]\n",
      "[12 16 20 24 28]\n",
      "\n",
      "\n",
      "100\n",
      "10\n",
      "18\n",
      "10\n",
      "\n",
      "\n",
      "[ 50 100]\n",
      "[10 60]\n",
      "[10 18]\n",
      "[ 2 10]\n",
      "\n",
      "\n",
      "[ 10  30  60 100 150 210 280 360 450 550]\n",
      "[  2   6  12  20  30  40  52  66  82 100]\n",
      "\n",
      "\n",
      "[[1. 1.]\n",
      " [1. 1.]]\n",
      "[[1. 1.]\n",
      " [1. 1.]]\n",
      "\n",
      "\n",
      "28.722813232690143\n",
      "4.898979485566356\n",
      "\n",
      "\n",
      "55.0\n",
      "10.0\n",
      "\n",
      "\n",
      "55.0\n",
      "10.0\n"
     ]
    }
   ],
   "source": [
    "#Array Functions\n",
    "n = np.array([[10, 20, 30, 40, 50], [60, 70, 80, 90, 100]])\n",
    "m = np.array([[2, 4, 6, 8, 10], [10, 12, 14, 16, 18]])\n",
    "print(n.sum(axis = 0))\n",
    "print(m.sum(axis = 0))\n",
    "print('\\n')\n",
    "print(np.max(n))\n",
    "print(np.min(n))\n",
    "print(np.max(m))\n",
    "print(np.min(n))\n",
    "print('\\n')\n",
    "print(n.max(axis = 1))                                      #'axis = 1' represents the row (Max in each row)\n",
    "print(n.min(axis = 1))\n",
    "print(m.max(axis = 1))\n",
    "print(m.min(axis = 1))\n",
    "print('\\n')\n",
    "print(np.cumsum(n))\n",
    "print(np.cumsum(m))\n",
    "print('\\n')\n",
    "print(np.corrcoef(n))                                       #Calculates correlation co-efficient of elements in 'n'\n",
    "print(np.corrcoef(m))\n",
    "print('\\n')\n",
    "print(n.std())                                              #Calculates standard deviation of elements in 'n'\n",
    "print(m.std())\n",
    "print('\\n')\n",
    "print(np.mean(n))\n",
    "print(np.mean(m))\n",
    "print('\\n')\n",
    "print(np.median(n))\n",
    "print(np.median(m))"
   ]
  },
  {
   "cell_type": "code",
   "execution_count": 185,
   "metadata": {},
   "outputs": [
    {
     "name": "stdout",
     "output_type": "stream",
     "text": [
      "[[11 14 16 18]\n",
      " [11 22 24 26]]\n",
      "\n",
      "\n",
      "[[11. 11. 11. 11.]\n",
      " [11. 11. 11. 11.]]\n",
      "\n",
      "\n",
      "[[ 2.  5.  7.  9.]\n",
      " [ 2. 13. 15. 17.]]\n",
      "\n",
      "\n"
     ]
    },
    {
     "ename": "ValueError",
     "evalue": "operands could not be broadcast together with shapes (2,4) (3,2) ",
     "output_type": "error",
     "traceback": [
      "\u001b[1;31m---------------------------------------------------------------------------\u001b[0m",
      "\u001b[1;31mValueError\u001b[0m                                Traceback (most recent call last)",
      "\u001b[1;32m<ipython-input-185-b2aa00f020ad>\u001b[0m in \u001b[0;36m<module>\u001b[1;34m()\u001b[0m\n\u001b[0;32m     11\u001b[0m \u001b[0mprint\u001b[0m\u001b[1;33m(\u001b[0m\u001b[0mnp\u001b[0m\u001b[1;33m.\u001b[0m\u001b[0madd\u001b[0m\u001b[1;33m(\u001b[0m\u001b[0mtwod\u001b[0m\u001b[1;33m,\u001b[0m \u001b[0mthreed\u001b[0m\u001b[1;33m)\u001b[0m\u001b[1;33m)\u001b[0m     \u001b[1;31m#No error -> Dimensions of 'twod' match dimensions of 'threed'\u001b[0m\u001b[1;33m\u001b[0m\u001b[0m\n\u001b[0;32m     12\u001b[0m \u001b[0mprint\u001b[0m\u001b[1;33m(\u001b[0m\u001b[1;34m'\\n'\u001b[0m\u001b[1;33m)\u001b[0m\u001b[1;33m\u001b[0m\u001b[0m\n\u001b[1;32m---> 13\u001b[1;33m \u001b[0mprint\u001b[0m\u001b[1;33m(\u001b[0m\u001b[0mnp\u001b[0m\u001b[1;33m.\u001b[0m\u001b[0madd\u001b[0m\u001b[1;33m(\u001b[0m\u001b[0mtwod\u001b[0m\u001b[1;33m,\u001b[0m \u001b[0mtest\u001b[0m\u001b[1;33m)\u001b[0m\u001b[1;33m)\u001b[0m         \u001b[1;31m#Expected error -> Dimensions are not the same -> Broadcasting can't make them the same\u001b[0m\u001b[1;33m\u001b[0m\u001b[0m\n\u001b[0m",
      "\u001b[1;31mValueError\u001b[0m: operands could not be broadcast together with shapes (2,4) (3,2) "
     ]
    }
   ],
   "source": [
    "#Broadcasting                                     Requires that arrays have the same dimensions OR corresponding dimension be 1\n",
    "twod = np.array([[1, 4, 6, 8,], [1, 12, 14, 16]])\n",
    "oned = np.array([[10]])\n",
    "threed = np.ones((2, 4))          #'np.ones' creates an array of ones in dimension (2, 4)\n",
    "test = np.ones((3,2))\n",
    "\n",
    "print(np.add(twod, oned))\n",
    "print('\\n')\n",
    "print(np.add(oned, threed))\n",
    "print('\\n')\n",
    "print(np.add(twod, threed))     #No error -> Dimensions of 'twod' match dimensions of 'threed'\n",
    "print('\\n')\n",
    "print(np.add(twod, test))         #Expected error -> Dimensions are not the same -> Broadcasting can't make them the same"
   ]
  }
 ],
 "metadata": {
  "kernelspec": {
   "display_name": "Python 3",
   "language": "python",
   "name": "python3"
  },
  "language_info": {
   "codemirror_mode": {
    "name": "ipython",
    "version": 3
   },
   "file_extension": ".py",
   "mimetype": "text/x-python",
   "name": "python",
   "nbconvert_exporter": "python",
   "pygments_lexer": "ipython3",
   "version": "3.6.5"
  }
 },
 "nbformat": 4,
 "nbformat_minor": 2
}
