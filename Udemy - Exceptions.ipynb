{
 "cells": [
  {
   "cell_type": "code",
   "execution_count": 1,
   "metadata": {},
   "outputs": [
    {
     "ename": "ZeroDivisionError",
     "evalue": "division by zero",
     "output_type": "error",
     "traceback": [
      "\u001b[1;31m---------------------------------------------------------------------------\u001b[0m",
      "\u001b[1;31mZeroDivisionError\u001b[0m                         Traceback (most recent call last)",
      "\u001b[1;32m<ipython-input-1-5ca3ec144ad3>\u001b[0m in \u001b[0;36m<module>\u001b[1;34m()\u001b[0m\n\u001b[0;32m      1\u001b[0m \u001b[0mx\u001b[0m \u001b[1;33m=\u001b[0m \u001b[1;36m0\u001b[0m\u001b[1;33m\u001b[0m\u001b[0m\n\u001b[1;32m----> 2\u001b[1;33m \u001b[0mprint\u001b[0m\u001b[1;33m(\u001b[0m\u001b[1;36m15\u001b[0m \u001b[1;33m/\u001b[0m \u001b[1;36m0\u001b[0m\u001b[1;33m)\u001b[0m\u001b[1;33m\u001b[0m\u001b[0m\n\u001b[0m",
      "\u001b[1;31mZeroDivisionError\u001b[0m: division by zero"
     ]
    }
   ],
   "source": [
    "x = 0\n",
    "print(15 / 0)"
   ]
  },
  {
   "cell_type": "code",
   "execution_count": 2,
   "metadata": {},
   "outputs": [
    {
     "ename": "FileNotFoundError",
     "evalue": "[Errno 2] No such file or directory: 'file.abc'",
     "output_type": "error",
     "traceback": [
      "\u001b[1;31m---------------------------------------------------------------------------\u001b[0m",
      "\u001b[1;31mFileNotFoundError\u001b[0m                         Traceback (most recent call last)",
      "\u001b[1;32m<ipython-input-2-bdf204cbcb76>\u001b[0m in \u001b[0;36m<module>\u001b[1;34m()\u001b[0m\n\u001b[1;32m----> 1\u001b[1;33m \u001b[1;32mwith\u001b[0m \u001b[0mopen\u001b[0m\u001b[1;33m(\u001b[0m\u001b[1;34m'file.abc'\u001b[0m\u001b[1;33m,\u001b[0m \u001b[1;34m'r'\u001b[0m\u001b[1;33m)\u001b[0m \u001b[1;32mas\u001b[0m \u001b[0mfile\u001b[0m\u001b[1;33m:\u001b[0m\u001b[1;33m\u001b[0m\u001b[0m\n\u001b[0m\u001b[0;32m      2\u001b[0m     \u001b[0mprint\u001b[0m\u001b[1;33m(\u001b[0m\u001b[0mfile\u001b[0m\u001b[1;33m)\u001b[0m\u001b[1;33m\u001b[0m\u001b[0m\n",
      "\u001b[1;31mFileNotFoundError\u001b[0m: [Errno 2] No such file or directory: 'file.abc'"
     ]
    }
   ],
   "source": [
    "with open('file.abc', 'r') as file:\n",
    "    print(file)"
   ]
  },
  {
   "cell_type": "code",
   "execution_count": 5,
   "metadata": {},
   "outputs": [
    {
     "name": "stdout",
     "output_type": "stream",
     "text": [
      "Invalid!\n"
     ]
    }
   ],
   "source": [
    "try:\n",
    "    print(55 / 0)\n",
    "    print(5)\n",
    "except ZeroDivisionError:\n",
    "    print('Invalid!')"
   ]
  },
  {
   "cell_type": "code",
   "execution_count": 8,
   "metadata": {},
   "outputs": [
    {
     "name": "stdout",
     "output_type": "stream",
     "text": [
      "Incorrect\n"
     ]
    }
   ],
   "source": [
    "try:\n",
    "    with open('file.abc', 'r') as file:\n",
    "        print(file)\n",
    "except FileNotFoundError:\n",
    "    print('Incorrect')"
   ]
  },
  {
   "cell_type": "code",
   "execution_count": 11,
   "metadata": {},
   "outputs": [
    {
     "name": "stdout",
     "output_type": "stream",
     "text": [
      "Problem!\n"
     ]
    }
   ],
   "source": [
    "try:\n",
    "    print(5 / 0)                                    #Order of the problem matters\n",
    "    with open('file.abc', 'r') as file:\n",
    "        print(file)\n",
    "        \n",
    "except FileNotFoundError:                           #Order of error calling doesn't matter\n",
    "    print('Incorrect')\n",
    "except ZeroDivisionError:\n",
    "    print('Problem!')"
   ]
  },
  {
   "cell_type": "code",
   "execution_count": 18,
   "metadata": {},
   "outputs": [
    {
     "name": "stdout",
     "output_type": "stream",
     "text": [
      "Error!\n"
     ]
    }
   ],
   "source": [
    "def test(data):\n",
    "    print(5 / data)\n",
    "    \n",
    "try:\n",
    "    test(0)\n",
    "except ZeroDivisionError:\n",
    "    print('Error!')"
   ]
  },
  {
   "cell_type": "code",
   "execution_count": 26,
   "metadata": {},
   "outputs": [
    {
     "name": "stdout",
     "output_type": "stream",
     "text": [
      "Please enter a valid email address\n"
     ]
    }
   ],
   "source": [
    "class InvalidEmailError(Exception):               #If creating your own exception, it must inherit 'exception'\n",
    "    pass\n",
    "\n",
    "def test2(email, subject, content):\n",
    "    if not '@' in email:\n",
    "        raise InvalidEmailError('Email does not contain an @ sign')    #Must be raised manually in order to execute\n",
    "        \n",
    "try:\n",
    "    test2('Example', 'Subject', 'Content')\n",
    "except InvalidEmailError:\n",
    "    print('Please enter a valid email address')"
   ]
  },
  {
   "cell_type": "code",
   "execution_count": 25,
   "metadata": {},
   "outputs": [
    {
     "ename": "InvalidEmailError",
     "evalue": "Email does not contain an @ sign",
     "output_type": "error",
     "traceback": [
      "\u001b[1;31m---------------------------------------------------------------------------\u001b[0m",
      "\u001b[1;31mInvalidEmailError\u001b[0m                         Traceback (most recent call last)",
      "\u001b[1;32m<ipython-input-25-61a1827adb97>\u001b[0m in \u001b[0;36m<module>\u001b[1;34m()\u001b[0m\n\u001b[0;32m      7\u001b[0m \u001b[1;33m\u001b[0m\u001b[0m\n\u001b[0;32m      8\u001b[0m \u001b[1;31m#try:\u001b[0m\u001b[1;33m\u001b[0m\u001b[1;33m\u001b[0m\u001b[0m\n\u001b[1;32m----> 9\u001b[1;33m \u001b[0mtest2\u001b[0m\u001b[1;33m(\u001b[0m\u001b[1;34m'Example'\u001b[0m\u001b[1;33m,\u001b[0m \u001b[1;34m'Subject'\u001b[0m\u001b[1;33m,\u001b[0m \u001b[1;34m'Content'\u001b[0m\u001b[1;33m)\u001b[0m\u001b[1;33m\u001b[0m\u001b[0m\n\u001b[0m\u001b[0;32m     10\u001b[0m \u001b[1;31m#except InvalidEmailError:\u001b[0m\u001b[1;33m\u001b[0m\u001b[1;33m\u001b[0m\u001b[0m\n\u001b[0;32m     11\u001b[0m     \u001b[1;31m#print('Please enter a valid email address')\u001b[0m\u001b[1;33m\u001b[0m\u001b[1;33m\u001b[0m\u001b[0m\n",
      "\u001b[1;32m<ipython-input-25-61a1827adb97>\u001b[0m in \u001b[0;36mtest2\u001b[1;34m(email, subject, content)\u001b[0m\n\u001b[0;32m      4\u001b[0m \u001b[1;32mdef\u001b[0m \u001b[0mtest2\u001b[0m\u001b[1;33m(\u001b[0m\u001b[0memail\u001b[0m\u001b[1;33m,\u001b[0m \u001b[0msubject\u001b[0m\u001b[1;33m,\u001b[0m \u001b[0mcontent\u001b[0m\u001b[1;33m)\u001b[0m\u001b[1;33m:\u001b[0m\u001b[1;33m\u001b[0m\u001b[0m\n\u001b[0;32m      5\u001b[0m     \u001b[1;32mif\u001b[0m \u001b[1;32mnot\u001b[0m \u001b[1;34m'@'\u001b[0m \u001b[1;32min\u001b[0m \u001b[0memail\u001b[0m\u001b[1;33m:\u001b[0m\u001b[1;33m\u001b[0m\u001b[0m\n\u001b[1;32m----> 6\u001b[1;33m         \u001b[1;32mraise\u001b[0m \u001b[0mInvalidEmailError\u001b[0m\u001b[1;33m(\u001b[0m\u001b[1;34m'Email does not contain an @ sign'\u001b[0m\u001b[1;33m)\u001b[0m\u001b[1;33m\u001b[0m\u001b[0m\n\u001b[0m\u001b[0;32m      7\u001b[0m \u001b[1;33m\u001b[0m\u001b[0m\n\u001b[0;32m      8\u001b[0m \u001b[1;31m#try:\u001b[0m\u001b[1;33m\u001b[0m\u001b[1;33m\u001b[0m\u001b[0m\n",
      "\u001b[1;31mInvalidEmailError\u001b[0m: Email does not contain an @ sign"
     ]
    }
   ],
   "source": [
    "class InvalidEmailError(Exception):               \n",
    "    pass\n",
    "\n",
    "def test2(email, subject, content):\n",
    "    if not '@' in email:\n",
    "        raise InvalidEmailError('Email does not contain an @ sign')    \n",
    "        \n",
    "#try:\n",
    "test2('Example', 'Subject', 'Content')\n",
    "#except InvalidEmailError:\n",
    "    #print('Please enter a valid email address')"
   ]
  },
  {
   "cell_type": "code",
   "execution_count": 35,
   "metadata": {},
   "outputs": [
    {
     "name": "stdout",
     "output_type": "stream",
     "text": [
      "<_io.TextIOWrapper name='Article Fetcher.py' mode='r' encoding='cp1252'>\n",
      "Problem\n",
      "File Closed\n"
     ]
    }
   ],
   "source": [
    "#'finally' keyword\n",
    "try:\n",
    "    file = open('Article Fetcher.py', 'r')\n",
    "    print(file)\n",
    "    print(5 / 0)\n",
    "\n",
    "except FileNotFoundError:\n",
    "    print('Invalid')\n",
    "except ZeroDivisionError:\n",
    "        print('Problem')\n",
    "finally:                                            #Ensures file closes despite previous errors -> Code is executed in any case\n",
    "    file.close()\n",
    "    print('File Closed')"
   ]
  },
  {
   "cell_type": "code",
   "execution_count": 40,
   "metadata": {},
   "outputs": [
    {
     "name": "stdout",
     "output_type": "stream",
     "text": [
      "<_io.TextIOWrapper name='Article Fetcher.py' mode='r' encoding='cp1252'>\n"
     ]
    },
    {
     "ename": "ZeroDivisionError",
     "evalue": "division by zero",
     "output_type": "error",
     "traceback": [
      "\u001b[1;31m---------------------------------------------------------------------------\u001b[0m",
      "\u001b[1;31mZeroDivisionError\u001b[0m                         Traceback (most recent call last)",
      "\u001b[1;32m<ipython-input-40-49a8258b4c80>\u001b[0m in \u001b[0;36m<module>\u001b[1;34m()\u001b[0m\n\u001b[0;32m      6\u001b[0m         \u001b[1;32mreturn\u001b[0m \u001b[1;34m'Hello'\u001b[0m                                     \u001b[1;31m#Indicating file is going to close from 'with' line onwards\u001b[0m\u001b[1;33m\u001b[0m\u001b[0m\n\u001b[0;32m      7\u001b[0m \u001b[1;33m\u001b[0m\u001b[0m\n\u001b[1;32m----> 8\u001b[1;33m \u001b[0mtesting\u001b[0m\u001b[1;33m(\u001b[0m\u001b[1;33m)\u001b[0m\u001b[1;33m\u001b[0m\u001b[0m\n\u001b[0m",
      "\u001b[1;32m<ipython-input-40-49a8258b4c80>\u001b[0m in \u001b[0;36mtesting\u001b[1;34m()\u001b[0m\n\u001b[0;32m      3\u001b[0m     \u001b[1;32mwith\u001b[0m \u001b[0mopen\u001b[0m\u001b[1;33m(\u001b[0m\u001b[1;34m'Article Fetcher.py'\u001b[0m\u001b[1;33m,\u001b[0m \u001b[1;34m'r'\u001b[0m\u001b[1;33m)\u001b[0m \u001b[1;32mas\u001b[0m \u001b[0mfile\u001b[0m\u001b[1;33m:\u001b[0m\u001b[1;33m\u001b[0m\u001b[0m\n\u001b[0;32m      4\u001b[0m         \u001b[0mprint\u001b[0m\u001b[1;33m(\u001b[0m\u001b[0mfile\u001b[0m\u001b[1;33m)\u001b[0m\u001b[1;33m\u001b[0m\u001b[0m\n\u001b[1;32m----> 5\u001b[1;33m         \u001b[0mprint\u001b[0m\u001b[1;33m(\u001b[0m\u001b[1;36m5\u001b[0m \u001b[1;33m/\u001b[0m  \u001b[1;36m0\u001b[0m\u001b[1;33m)\u001b[0m                                      \u001b[1;31m#Handled within 'with' line -> File closed straight-away\u001b[0m\u001b[1;33m\u001b[0m\u001b[0m\n\u001b[0m\u001b[0;32m      6\u001b[0m         \u001b[1;32mreturn\u001b[0m \u001b[1;34m'Hello'\u001b[0m                                     \u001b[1;31m#Indicating file is going to close from 'with' line onwards\u001b[0m\u001b[1;33m\u001b[0m\u001b[0m\n\u001b[0;32m      7\u001b[0m \u001b[1;33m\u001b[0m\u001b[0m\n",
      "\u001b[1;31mZeroDivisionError\u001b[0m: division by zero"
     ]
    }
   ],
   "source": [
    "#'with' keyword                                            #Primarily used for files\n",
    "def testing():        \n",
    "    with open('Article Fetcher.py', 'r') as file:\n",
    "        print(file)\n",
    "        print(5 /  0)                                      #Handled within 'with' line -> File closed straight-away\n",
    "        return 'Hello'                                     #Indicating file is going to close from 'with' line onwards\n",
    "\n",
    "testing()                                "
   ]
  },
  {
   "cell_type": "code",
   "execution_count": 42,
   "metadata": {},
   "outputs": [
    {
     "name": "stdout",
     "output_type": "stream",
     "text": [
      "File not found\n"
     ]
    }
   ],
   "source": [
    "try:\n",
    "    with open('do_not_open.txt', 'r') as file:\n",
    "        print(file)\n",
    "except FileNotFoundError:\n",
    "    print('File not found')\n"
   ]
  },
  {
   "cell_type": "code",
   "execution_count": 47,
   "metadata": {},
   "outputs": [
    {
     "name": "stdout",
     "output_type": "stream",
     "text": [
      "150\n",
      "1150\n",
      "No price listed for one of the items in dictionary. Sorry! (KeyError)\n"
     ]
    }
   ],
   "source": [
    "articles = ['Item 1', 'Item 2', 'Item 3']\n",
    "\n",
    "prices = {'Item 1': 150, 'Item 2': 1150}\n",
    "\n",
    "def print_prices():\n",
    "    for article in articles:\n",
    "        print(prices[article])\n",
    "        \n",
    "try:\n",
    "    print_prices()\n",
    "except:\n",
    "    print('No price listed for one of the items in dictionary. Sorry! (KeyError)')"
   ]
  },
  {
   "cell_type": "code",
   "execution_count": 50,
   "metadata": {},
   "outputs": [
    {
     "ename": "EmptyDictionaryError",
     "evalue": "An error has occurred",
     "output_type": "error",
     "traceback": [
      "\u001b[1;31m---------------------------------------------------------------------------\u001b[0m",
      "\u001b[1;31mEmptyDictionaryError\u001b[0m                      Traceback (most recent call last)",
      "\u001b[1;32m<ipython-input-50-6610eecca125>\u001b[0m in \u001b[0;36m<module>\u001b[1;34m()\u001b[0m\n\u001b[0;32m      2\u001b[0m \u001b[1;33m\u001b[0m\u001b[0m\n\u001b[0;32m      3\u001b[0m \u001b[1;32mif\u001b[0m \u001b[0mlen\u001b[0m\u001b[1;33m(\u001b[0m\u001b[0md\u001b[0m\u001b[1;33m)\u001b[0m \u001b[1;33m==\u001b[0m \u001b[1;36m0\u001b[0m\u001b[1;33m:\u001b[0m\u001b[1;33m\u001b[0m\u001b[0m\n\u001b[1;32m----> 4\u001b[1;33m     \u001b[1;32mraise\u001b[0m \u001b[0mEmptyDictionaryError\u001b[0m\u001b[1;33m(\u001b[0m\u001b[1;34m'An error has occurred'\u001b[0m\u001b[1;33m)\u001b[0m\u001b[1;33m\u001b[0m\u001b[0m\n\u001b[0m\u001b[0;32m      5\u001b[0m \u001b[1;33m\u001b[0m\u001b[0m\n\u001b[0;32m      6\u001b[0m \u001b[1;32mclass\u001b[0m \u001b[0mEmptyDictionaryError\u001b[0m\u001b[1;33m(\u001b[0m\u001b[0mException\u001b[0m\u001b[1;33m)\u001b[0m\u001b[1;33m:\u001b[0m\u001b[1;33m\u001b[0m\u001b[0m\n",
      "\u001b[1;31mEmptyDictionaryError\u001b[0m: An error has occurred"
     ]
    }
   ],
   "source": [
    "d = {}\n",
    "\n",
    "if len(d) == 0:\n",
    "    raise EmptyDictionaryError('An error has occurred')\n",
    "    \n",
    "class EmptyDictionaryError(Exception):\n",
    "    pass\n",
    "    \n",
    "#def test3(item):\n",
    "    #if not item in d:\n",
    "        #raise EmptyDictionaryError('Dictionary is empty!')    \n",
    "        \n",
    "\n",
    "#test3('Ball')"
   ]
  }
 ],
 "metadata": {
  "kernelspec": {
   "display_name": "Python 3",
   "language": "python",
   "name": "python3"
  },
  "language_info": {
   "codemirror_mode": {
    "name": "ipython",
    "version": 3
   },
   "file_extension": ".py",
   "mimetype": "text/x-python",
   "name": "python",
   "nbconvert_exporter": "python",
   "pygments_lexer": "ipython3",
   "version": "3.6.5"
  }
 },
 "nbformat": 4,
 "nbformat_minor": 2
}
